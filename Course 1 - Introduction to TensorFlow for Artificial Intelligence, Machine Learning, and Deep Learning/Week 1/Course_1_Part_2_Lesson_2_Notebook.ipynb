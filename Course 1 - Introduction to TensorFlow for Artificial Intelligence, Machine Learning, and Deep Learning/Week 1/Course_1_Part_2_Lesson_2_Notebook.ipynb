{
  "cells": [
    {
      "cell_type": "markdown",
      "metadata": {
        "colab_type": "text",
        "id": "rX8mhOLljYeM"
      },
      "source": [
        "##### Copyright 2019 The TensorFlow Authors."
      ]
    },
    {
      "cell_type": "code",
      "metadata": {
        "cellView": "form",
        "colab_type": "code",
        "id": "BZSlp3DAjdYf",
        "colab": {}
      },
      "source": [
        "#@title Licensed under the Apache License, Version 2.0 (the \"License\");\n",
        "# you may not use this file except in compliance with the License.\n",
        "# You may obtain a copy of the License at\n",
        "#\n",
        "# https://www.apache.org/licenses/LICENSE-2.0\n",
        "#\n",
        "# Unless required by applicable law or agreed to in writing, software\n",
        "# distributed under the License is distributed on an \"AS IS\" BASIS,\n",
        "# WITHOUT WARRANTIES OR CONDITIONS OF ANY KIND, either express or implied.\n",
        "# See the License for the specific language governing permissions and\n",
        "# limitations under the License."
      ],
      "execution_count": 1,
      "outputs": []
    },
    {
      "cell_type": "markdown",
      "metadata": {
        "colab_type": "text",
        "id": "ZIAkIlfmCe1B"
      },
      "source": [
        "# The Hello World of Deep Learning with Neural Networks"
      ]
    },
    {
      "cell_type": "markdown",
      "metadata": {
        "colab_type": "text",
        "id": "fA93WUy1zzWf"
      },
      "source": [
        "Like every first app you should start with something super simple that shows the overall scaffolding for how your code works. \n",
        "\n",
        "In the case of creating neural networks, the sample I like to use is one where it learns the relationship between two numbers. So, for example, if you were writing code for a function like this, you already know the 'rules' — \n",
        "\n",
        "\n",
        "```\n",
        "float hw_function(float x){\n",
        "    float y = (2 * x) - 1;\n",
        "    return y;\n",
        "}\n",
        "```\n",
        "\n",
        "So how would you train a neural network to do the equivalent task? Using data! By feeding it with a set of Xs, and a set of Ys, it should be able to figure out the relationship between them. \n",
        "\n",
        "This is obviously a very different paradigm than what you might be used to, so let's step through it piece by piece.\n"
      ]
    },
    {
      "cell_type": "markdown",
      "metadata": {
        "colab_type": "text",
        "id": "DzbtdRcZDO9B"
      },
      "source": [
        "## Imports\n",
        "\n",
        "Let's start with our imports. Here we are importing TensorFlow and calling it tf for ease of use.\n",
        "\n",
        "We then import a library called numpy, which helps us to represent our data as lists easily and quickly.\n",
        "\n",
        "The framework for defining a neural network as a set of Sequential layers is called keras, so we import that too."
      ]
    },
    {
      "cell_type": "code",
      "metadata": {
        "colab_type": "code",
        "id": "X9uIpOS2zx7k",
        "colab": {}
      },
      "source": [
        "import tensorflow as tf\n",
        "import numpy as np\n",
        "from tensorflow import keras"
      ],
      "execution_count": 2,
      "outputs": []
    },
    {
      "cell_type": "markdown",
      "metadata": {
        "colab_type": "text",
        "id": "wwJGmDrQ0EoB"
      },
      "source": [
        "## Define and Compile the Neural Network\n",
        "\n",
        "Next we will create the simplest possible neural network. It has 1 layer, and that layer has 1 neuron, and the input shape to it is just 1 value."
      ]
    },
    {
      "cell_type": "code",
      "metadata": {
        "colab_type": "code",
        "id": "kQFAr_xo0M4T",
        "colab": {}
      },
      "source": [
        "model = tf.keras.Sequential([keras.layers.Dense(units=1, input_shape=[1])])"
      ],
      "execution_count": 3,
      "outputs": []
    },
    {
      "cell_type": "markdown",
      "metadata": {
        "colab_type": "text",
        "id": "KhjZjZ-c0Ok9"
      },
      "source": [
        "Now we compile our Neural Network. When we do so, we have to specify 2 functions, a loss and an optimizer.\n",
        "\n",
        "If you've seen lots of math for machine learning, here's where it's usually used, but in this case it's nicely encapsulated in functions for you. But what happens here — let's explain...\n",
        "\n",
        "We know that in our function, the relationship between the numbers is y=2x-1. \n",
        "\n",
        "When the computer is trying to 'learn' that, it makes a guess...maybe y=10x+10. The LOSS function measures the guessed answers against the known correct answers and measures how well or how badly it did.\n",
        "\n",
        "It then uses the OPTIMIZER function to make another guess. Based on how the loss function went, it will try to minimize the loss. At that point maybe it will come up with somehting like y=5x+5, which, while still pretty bad, is closer to the correct result (i.e. the loss is lower)\n",
        "\n",
        "It will repeat this for the number of EPOCHS which you will see shortly. But first, here's how we tell it to use 'MEAN SQUARED ERROR' for the loss and 'STOCHASTIC GRADIENT DESCENT' for the optimizer. You don't need to understand the math for these yet, but you can see that they work! :)\n",
        "\n",
        "Over time you will learn the different and appropriate loss and optimizer functions for different scenarios. \n"
      ]
    },
    {
      "cell_type": "code",
      "metadata": {
        "colab_type": "code",
        "id": "m8YQN1H41L-Y",
        "colab": {}
      },
      "source": [
        "model.compile(optimizer='sgd', loss='mean_squared_error')"
      ],
      "execution_count": 4,
      "outputs": []
    },
    {
      "cell_type": "markdown",
      "metadata": {
        "colab_type": "text",
        "id": "5QyOUhFw1OUX"
      },
      "source": [
        "## Providing the Data\n",
        "\n",
        "Next up we'll feed in some data. In this case we are taking 6 xs and 6ys. You can see that the relationship between these is that y=2x-1, so where x = -1, y=-3 etc. etc. \n",
        "\n",
        "A python library called 'Numpy' provides lots of array type data structures that are a defacto standard way of doing it. We declare that we want to use these by specifying the values as an np.array[]"
      ]
    },
    {
      "cell_type": "code",
      "metadata": {
        "colab_type": "code",
        "id": "4Dxk4q-jzEy4",
        "colab": {}
      },
      "source": [
        "xs = np.array([-1.0,  0.0, 1.0, 2.0, 3.0, 4.0], dtype=float)\n",
        "ys = np.array([-3.0, -1.0, 1.0, 3.0, 5.0, 7.0], dtype=float)"
      ],
      "execution_count": 5,
      "outputs": []
    },
    {
      "cell_type": "markdown",
      "metadata": {
        "colab_type": "text",
        "id": "n_YcWRElnM_b"
      },
      "source": [
        "# Training the Neural Network"
      ]
    },
    {
      "cell_type": "markdown",
      "metadata": {
        "colab_type": "text",
        "id": "c-Jk4dG91dvD"
      },
      "source": [
        "The process of training the neural network, where it 'learns' the relationship between the Xs and Ys is in the **model.fit**  call. This is where it will go through the loop we spoke about above, making a guess, measuring how good or bad it is (aka the loss), using the opimizer to make another guess etc. It will do it for the number of epochs you specify. When you run this code, you'll see the loss on the right hand side."
      ]
    },
    {
      "cell_type": "code",
      "metadata": {
        "colab_type": "code",
        "id": "lpRrl7WK10Pq",
        "colab": {},
        "tags": [
          "outputPrepend",
          "outputPrepend",
          "outputPrepend",
          "outputPrepend",
          "outputPrepend",
          "outputPrepend",
          "outputPrepend",
          "outputPrepend",
          "outputPrepend",
          "outputPrepend",
          "outputPrepend",
          "outputPrepend",
          "outputPrepend",
          "outputPrepend",
          "outputPrepend",
          "outputPrepend",
          "outputPrepend",
          "outputPrepend",
          "outputPrepend",
          "outputPrepend",
          "outputPrepend",
          "outputPrepend",
          "outputPrepend",
          "outputPrepend",
          "outputPrepend",
          "outputPrepend",
          "outputPrepend",
          "outputPrepend",
          "outputPrepend",
          "outputPrepend",
          "outputPrepend",
          "outputPrepend",
          "outputPrepend",
          "outputPrepend",
          "outputPrepend",
          "outputPrepend",
          "outputPrepend",
          "outputPrepend",
          "outputPrepend",
          "outputPrepend",
          "outputPrepend",
          "outputPrepend",
          "outputPrepend",
          "outputPrepend",
          "outputPrepend",
          "outputPrepend",
          "outputPrepend",
          "outputPrepend",
          "outputPrepend",
          "outputPrepend",
          "outputPrepend",
          "outputPrepend",
          "outputPrepend",
          "outputPrepend",
          "outputPrepend",
          "outputPrepend",
          "outputPrepend",
          "outputPrepend",
          "outputPrepend",
          "outputPrepend",
          "outputPrepend",
          "outputPrepend",
          "outputPrepend",
          "outputPrepend",
          "outputPrepend",
          "outputPrepend",
          "outputPrepend",
          "outputPrepend",
          "outputPrepend",
          "outputPrepend",
          "outputPrepend",
          "outputPrepend",
          "outputPrepend",
          "outputPrepend",
          "outputPrepend",
          "outputPrepend",
          "outputPrepend",
          "outputPrepend",
          "outputPrepend",
          "outputPrepend",
          "outputPrepend",
          "outputPrepend",
          "outputPrepend",
          "outputPrepend",
          "outputPrepend",
          "outputPrepend",
          "outputPrepend",
          "outputPrepend",
          "outputPrepend",
          "outputPrepend",
          "outputPrepend",
          "outputPrepend",
          "outputPrepend",
          "outputPrepend",
          "outputPrepend",
          "outputPrepend",
          "outputPrepend",
          "outputPrepend",
          "outputPrepend",
          "outputPrepend",
          "outputPrepend",
          "outputPrepend",
          "outputPrepend",
          "outputPrepend",
          "outputPrepend",
          "outputPrepend",
          "outputPrepend",
          "outputPrepend",
          "outputPrepend",
          "outputPrepend",
          "outputPrepend",
          "outputPrepend",
          "outputPrepend",
          "outputPrepend",
          "outputPrepend",
          "outputPrepend",
          "outputPrepend",
          "outputPrepend",
          "outputPrepend",
          "outputPrepend",
          "outputPrepend",
          "outputPrepend",
          "outputPrepend",
          "outputPrepend",
          "outputPrepend",
          "outputPrepend",
          "outputPrepend",
          "outputPrepend",
          "outputPrepend",
          "outputPrepend",
          "outputPrepend",
          "outputPrepend",
          "outputPrepend",
          "outputPrepend",
          "outputPrepend",
          "outputPrepend",
          "outputPrepend",
          "outputPrepend",
          "outputPrepend",
          "outputPrepend",
          "outputPrepend",
          "outputPrepend",
          "outputPrepend",
          "outputPrepend",
          "outputPrepend",
          "outputPrepend",
          "outputPrepend",
          "outputPrepend",
          "outputPrepend",
          "outputPrepend",
          "outputPrepend",
          "outputPrepend",
          "outputPrepend",
          "outputPrepend",
          "outputPrepend",
          "outputPrepend",
          "outputPrepend",
          "outputPrepend",
          "outputPrepend",
          "outputPrepend",
          "outputPrepend",
          "outputPrepend",
          "outputPrepend",
          "outputPrepend",
          "outputPrepend",
          "outputPrepend",
          "outputPrepend",
          "outputPrepend",
          "outputPrepend",
          "outputPrepend",
          "outputPrepend",
          "outputPrepend",
          "outputPrepend",
          "outputPrepend",
          "outputPrepend",
          "outputPrepend",
          "outputPrepend",
          "outputPrepend",
          "outputPrepend",
          "outputPrepend",
          "outputPrepend",
          "outputPrepend",
          "outputPrepend",
          "outputPrepend",
          "outputPrepend",
          "outputPrepend",
          "outputPrepend",
          "outputPrepend",
          "outputPrepend",
          "outputPrepend",
          "outputPrepend",
          "outputPrepend",
          "outputPrepend",
          "outputPrepend",
          "outputPrepend",
          "outputPrepend",
          "outputPrepend",
          "outputPrepend",
          "outputPrepend",
          "outputPrepend",
          "outputPrepend",
          "outputPrepend",
          "outputPrepend",
          "outputPrepend",
          "outputPrepend",
          "outputPrepend",
          "outputPrepend",
          "outputPrepend",
          "outputPrepend",
          "outputPrepend",
          "outputPrepend",
          "outputPrepend",
          "outputPrepend",
          "outputPrepend",
          "outputPrepend",
          "outputPrepend",
          "outputPrepend",
          "outputPrepend",
          "outputPrepend",
          "outputPrepend",
          "outputPrepend",
          "outputPrepend",
          "outputPrepend",
          "outputPrepend",
          "outputPrepend",
          "outputPrepend",
          "outputPrepend",
          "outputPrepend",
          "outputPrepend",
          "outputPrepend",
          "outputPrepend",
          "outputPrepend",
          "outputPrepend",
          "outputPrepend",
          "outputPrepend",
          "outputPrepend",
          "outputPrepend",
          "outputPrepend",
          "outputPrepend",
          "outputPrepend",
          "outputPrepend",
          "outputPrepend",
          "outputPrepend",
          "outputPrepend",
          "outputPrepend",
          "outputPrepend",
          "outputPrepend",
          "outputPrepend",
          "outputPrepend",
          "outputPrepend",
          "outputPrepend",
          "outputPrepend",
          "outputPrepend",
          "outputPrepend",
          "outputPrepend",
          "outputPrepend",
          "outputPrepend",
          "outputPrepend",
          "outputPrepend",
          "outputPrepend",
          "outputPrepend",
          "outputPrepend",
          "outputPrepend",
          "outputPrepend",
          "outputPrepend",
          "outputPrepend",
          "outputPrepend",
          "outputPrepend",
          "outputPrepend",
          "outputPrepend",
          "outputPrepend",
          "outputPrepend",
          "outputPrepend",
          "outputPrepend",
          "outputPrepend",
          "outputPrepend",
          "outputPrepend",
          "outputPrepend",
          "outputPrepend",
          "outputPrepend",
          "outputPrepend",
          "outputPrepend",
          "outputPrepend",
          "outputPrepend",
          "outputPrepend",
          "outputPrepend",
          "outputPrepend",
          "outputPrepend",
          "outputPrepend",
          "outputPrepend",
          "outputPrepend",
          "outputPrepend",
          "outputPrepend",
          "outputPrepend",
          "outputPrepend",
          "outputPrepend",
          "outputPrepend",
          "outputPrepend",
          "outputPrepend",
          "outputPrepend",
          "outputPrepend",
          "outputPrepend",
          "outputPrepend",
          "outputPrepend",
          "outputPrepend",
          "outputPrepend",
          "outputPrepend",
          "outputPrepend",
          "outputPrepend",
          "outputPrepend",
          "outputPrepend",
          "outputPrepend",
          "outputPrepend",
          "outputPrepend",
          "outputPrepend",
          "outputPrepend",
          "outputPrepend",
          "outputPrepend",
          "outputPrepend",
          "outputPrepend",
          "outputPrepend",
          "outputPrepend",
          "outputPrepend",
          "outputPrepend",
          "outputPrepend",
          "outputPrepend",
          "outputPrepend",
          "outputPrepend",
          "outputPrepend",
          "outputPrepend",
          "outputPrepend",
          "outputPrepend",
          "outputPrepend",
          "outputPrepend",
          "outputPrepend",
          "outputPrepend",
          "outputPrepend",
          "outputPrepend",
          "outputPrepend",
          "outputPrepend",
          "outputPrepend",
          "outputPrepend",
          "outputPrepend",
          "outputPrepend",
          "outputPrepend",
          "outputPrepend",
          "outputPrepend",
          "outputPrepend",
          "outputPrepend",
          "outputPrepend",
          "outputPrepend",
          "outputPrepend"
        ]
      },
      "source": [
        "model.fit(xs, ys, epochs=500)"
      ],
      "execution_count": 6,
      "outputs": [
        {
          "output_type": "stream",
          "name": "stdout",
          "text": "=======================] - 0s 166us/sample - loss: 1.0305\nEpoch 262/500\n6/6 [==============================] - 0s 1ms/sample - loss: 1.0268\nEpoch 263/500\n6/6 [==============================] - 0s 607us/sample - loss: 1.0231\nEpoch 264/500\n6/6 [==============================] - 0s 668us/sample - loss: 1.0195\nEpoch 265/500\n6/6 [==============================] - 0s 0s/sample - loss: 1.0159\nEpoch 266/500\n6/6 [==============================] - 0s 166us/sample - loss: 1.0124\nEpoch 267/500\n6/6 [==============================] - 0s 1ms/sample - loss: 1.0089\nEpoch 268/500\n6/6 [==============================] - 0s 1ms/sample - loss: 1.0054\nEpoch 269/500\n6/6 [==============================] - 0s 354us/sample - loss: 1.0020\nEpoch 270/500\n6/6 [==============================] - 0s 664us/sample - loss: 0.9986\nEpoch 271/500\n6/6 [==============================] - 0s 557us/sample - loss: 0.9952\nEpoch 272/500\n6/6 [==============================] - 0s 622us/sample - loss: 0.9919\nEpoch 273/500\n6/6 [==============================] - 0s 1ms/sample - loss: 0.9886\nEpoch 274/500\n6/6 [==============================] - 0s 167us/sample - loss: 0.9854\nEpoch 275/500\n6/6 [==============================] - 0s 2ms/sample - loss: 0.9822\nEpoch 276/500\n6/6 [==============================] - 0s 1ms/sample - loss: 0.9790\nEpoch 277/500\n6/6 [==============================] - 0s 391us/sample - loss: 0.9758\nEpoch 278/500\n6/6 [==============================] - 0s 518us/sample - loss: 0.9727\nEpoch 279/500\n6/6 [==============================] - 0s 419us/sample - loss: 0.9696\nEpoch 280/500\n6/6 [==============================] - 0s 1ms/sample - loss: 0.9666\nEpoch 281/500\n6/6 [==============================] - 0s 0s/sample - loss: 0.9636\nEpoch 282/500\n6/6 [==============================] - 0s 255us/sample - loss: 0.9606\nEpoch 283/500\n6/6 [==============================] - 0s 422us/sample - loss: 0.9576\nEpoch 284/500\n6/6 [==============================] - 0s 874us/sample - loss: 0.9547\nEpoch 285/500\n6/6 [==============================] - 0s 332us/sample - loss: 0.9517\nEpoch 286/500\n6/6 [==============================] - 0s 662us/sample - loss: 0.9489\nEpoch 287/500\n6/6 [==============================] - 0s 623us/sample - loss: 0.9460\nEpoch 288/500\n6/6 [==============================] - 0s 1ms/sample - loss: 0.9432\nEpoch 289/500\n6/6 [==============================] - 0s 409us/sample - loss: 0.9404\nEpoch 290/500\n6/6 [==============================] - 0s 430us/sample - loss: 0.9376\nEpoch 291/500\n6/6 [==============================] - 0s 494us/sample - loss: 0.9348\nEpoch 292/500\n6/6 [==============================] - 0s 1ms/sample - loss: 0.9321\nEpoch 293/500\n6/6 [==============================] - 0s 324us/sample - loss: 0.9294\nEpoch 294/500\n6/6 [==============================] - 0s 2ms/sample - loss: 0.9267\nEpoch 295/500\n6/6 [==============================] - 0s 366us/sample - loss: 0.9240\nEpoch 296/500\n6/6 [==============================] - 0s 1ms/sample - loss: 0.9214\nEpoch 297/500\n6/6 [==============================] - 0s 601us/sample - loss: 0.9188\nEpoch 298/500\n6/6 [==============================] - 0s 913us/sample - loss: 0.9162\nEpoch 299/500\n6/6 [==============================] - 0s 292us/sample - loss: 0.9136\nEpoch 300/500\n6/6 [==============================] - 0s 266us/sample - loss: 0.9111\nEpoch 301/500\n6/6 [==============================] - 0s 727us/sample - loss: 0.9085\nEpoch 302/500\n6/6 [==============================] - 0s 1ms/sample - loss: 0.9060\nEpoch 303/500\n6/6 [==============================] - 0s 1ms/sample - loss: 0.9035\nEpoch 304/500\n6/6 [==============================] - 0s 166us/sample - loss: 0.9010\nEpoch 305/500\n6/6 [==============================] - 0s 534us/sample - loss: 0.8986\nEpoch 306/500\n6/6 [==============================] - 0s 272us/sample - loss: 0.8962\nEpoch 307/500\n6/6 [==============================] - 0s 325us/sample - loss: 0.8937\nEpoch 308/500\n6/6 [==============================] - 0s 333us/sample - loss: 0.8913\nEpoch 309/500\n6/6 [==============================] - 0s 3ms/sample - loss: 0.8889\nEpoch 310/500\n6/6 [==============================] - 0s 620us/sample - loss: 0.8866\nEpoch 311/500\n6/6 [==============================] - 0s 219us/sample - loss: 0.8842\nEpoch 312/500\n6/6 [==============================] - 0s 0s/sample - loss: 0.8819\nEpoch 313/500\n6/6 [==============================] - 0s 526us/sample - loss: 0.8796\nEpoch 314/500\n6/6 [==============================] - 0s 0s/sample - loss: 0.8773\nEpoch 315/500\n6/6 [==============================] - 0s 0s/sample - loss: 0.8750\nEpoch 316/500\n6/6 [==============================] - 0s 0s/sample - loss: 0.8727\nEpoch 317/500\n6/6 [==============================] - 0s 0s/sample - loss: 0.8705\nEpoch 318/500\n6/6 [==============================] - 0s 166us/sample - loss: 0.8682\nEpoch 319/500\n6/6 [==============================] - 0s 0s/sample - loss: 0.8660\nEpoch 320/500\n6/6 [==============================] - 0s 669us/sample - loss: 0.8638\nEpoch 321/500\n6/6 [==============================] - 0s 0s/sample - loss: 0.8616\nEpoch 322/500\n6/6 [==============================] - 0s 0s/sample - loss: 0.8594\nEpoch 323/500\n6/6 [==============================] - 0s 427us/sample - loss: 0.8572\nEpoch 324/500\n6/6 [==============================] - 0s 338us/sample - loss: 0.8551\nEpoch 325/500\n6/6 [==============================] - 0s 673us/sample - loss: 0.8529\nEpoch 326/500\n6/6 [==============================] - 0s 167us/sample - loss: 0.8508\nEpoch 327/500\n6/6 [==============================] - 0s 695us/sample - loss: 0.8487\nEpoch 328/500\n6/6 [==============================] - 0s 2ms/sample - loss: 0.8466\nEpoch 329/500\n6/6 [==============================] - 0s 5ms/sample - loss: 0.8445\nEpoch 330/500\n6/6 [==============================] - 0s 542us/sample - loss: 0.8424\nEpoch 331/500\n6/6 [==============================] - 0s 291us/sample - loss: 0.8403\nEpoch 332/500\n6/6 [==============================] - 0s 668us/sample - loss: 0.8383\nEpoch 333/500\n6/6 [==============================] - 0s 629us/sample - loss: 0.8362\nEpoch 334/500\n6/6 [==============================] - 0s 752us/sample - loss: 0.8342\nEpoch 335/500\n6/6 [==============================] - 0s 339us/sample - loss: 0.8322\nEpoch 336/500\n6/6 [==============================] - 0s 849us/sample - loss: 0.8302\nEpoch 337/500\n6/6 [==============================] - 0s 332us/sample - loss: 0.8282\nEpoch 338/500\n6/6 [==============================] - 0s 340us/sample - loss: 0.8262\nEpoch 339/500\n6/6 [==============================] - 0s 340us/sample - loss: 0.8242\nEpoch 340/500\n6/6 [==============================] - 0s 767us/sample - loss: 0.8222\nEpoch 341/500\n6/6 [==============================] - 0s 2ms/sample - loss: 0.8203\nEpoch 342/500\n6/6 [==============================] - 0s 905us/sample - loss: 0.8183\nEpoch 343/500\n6/6 [==============================] - 0s 214us/sample - loss: 0.8164\nEpoch 344/500\n6/6 [==============================] - 0s 297us/sample - loss: 0.8144\nEpoch 345/500\n6/6 [==============================] - 0s 400us/sample - loss: 0.8125\nEpoch 346/500\n6/6 [==============================] - 0s 254us/sample - loss: 0.8106\nEpoch 347/500\n6/6 [==============================] - 0s 1ms/sample - loss: 0.8087\nEpoch 348/500\n6/6 [==============================] - 0s 667us/sample - loss: 0.8068\nEpoch 349/500\n6/6 [==============================] - 0s 823us/sample - loss: 0.8049\nEpoch 350/500\n6/6 [==============================] - 0s 0s/sample - loss: 0.8030\nEpoch 351/500\n6/6 [==============================] - 0s 419us/sample - loss: 0.8012\nEpoch 352/500\n6/6 [==============================] - 0s 764us/sample - loss: 0.7993\nEpoch 353/500\n6/6 [==============================] - 0s 982us/sample - loss: 0.7975\nEpoch 354/500\n6/6 [==============================] - 0s 718us/sample - loss: 0.7956\nEpoch 355/500\n6/6 [==============================] - 0s 664us/sample - loss: 0.7938\nEpoch 356/500\n6/6 [==============================] - 0s 1ms/sample - loss: 0.7920\nEpoch 357/500\n6/6 [==============================] - 0s 765us/sample - loss: 0.7902\nEpoch 358/500\n6/6 [==============================] - 0s 665us/sample - loss: 0.7883\nEpoch 359/500\n6/6 [==============================] - 0s 0s/sample - loss: 0.7865\nEpoch 360/500\n6/6 [==============================] - 0s 359us/sample - loss: 0.7847\nEpoch 361/500\n6/6 [==============================] - 0s 1ms/sample - loss: 0.7830\nEpoch 362/500\n6/6 [==============================] - 0s 667us/sample - loss: 0.7812\nEpoch 363/500\n6/6 [==============================] - 0s 1ms/sample - loss: 0.7794\nEpoch 364/500\n6/6 [==============================] - 0s 0s/sample - loss: 0.7776\nEpoch 365/500\n6/6 [==============================] - 0s 340us/sample - loss: 0.7759\nEpoch 366/500\n6/6 [==============================] - 0s 397us/sample - loss: 0.7741\nEpoch 367/500\n6/6 [==============================] - 0s 661us/sample - loss: 0.7724\nEpoch 368/500\n6/6 [==============================] - 0s 2ms/sample - loss: 0.7707\nEpoch 369/500\n6/6 [==============================] - 0s 314us/sample - loss: 0.7689\nEpoch 370/500\n6/6 [==============================] - 0s 331us/sample - loss: 0.7672\nEpoch 371/500\n6/6 [==============================] - 0s 1ms/sample - loss: 0.7655\nEpoch 372/500\n6/6 [==============================] - 0s 900us/sample - loss: 0.7638\nEpoch 373/500\n6/6 [==============================] - 0s 850us/sample - loss: 0.7621\nEpoch 374/500\n6/6 [==============================] - 0s 707us/sample - loss: 0.7604\nEpoch 375/500\n6/6 [==============================] - 0s 957us/sample - loss: 0.7587\nEpoch 376/500\n6/6 [==============================] - 0s 398us/sample - loss: 0.7570\nEpoch 377/500\n6/6 [==============================] - 0s 1ms/sample - loss: 0.7553\nEpoch 378/500\n6/6 [==============================] - 0s 0s/sample - loss: 0.7537\nEpoch 379/500\n6/6 [==============================] - 0s 332us/sample - loss: 0.7520\nEpoch 380/500\n6/6 [==============================] - 0s 0s/sample - loss: 0.7503\nEpoch 381/500\n6/6 [==============================] - 0s 372us/sample - loss: 0.7487\nEpoch 382/500\n6/6 [==============================] - 0s 340us/sample - loss: 0.7470\nEpoch 383/500\n6/6 [==============================] - 0s 332us/sample - loss: 0.7454\nEpoch 384/500\n6/6 [==============================] - 0s 298us/sample - loss: 0.7437\nEpoch 385/500\n6/6 [==============================] - 0s 350us/sample - loss: 0.7421\nEpoch 386/500\n6/6 [==============================] - 0s 805us/sample - loss: 0.7405\nEpoch 387/500\n6/6 [==============================] - 0s 637us/sample - loss: 0.7389\nEpoch 388/500\n6/6 [==============================] - 0s 423us/sample - loss: 0.7372\nEpoch 389/500\n6/6 [==============================] - 0s 839us/sample - loss: 0.7356\nEpoch 390/500\n6/6 [==============================] - 0s 333us/sample - loss: 0.7340\nEpoch 391/500\n6/6 [==============================] - 0s 761us/sample - loss: 0.7324\nEpoch 392/500\n6/6 [==============================] - 0s 669us/sample - loss: 0.7308\nEpoch 393/500\n6/6 [==============================] - 0s 669us/sample - loss: 0.7293\nEpoch 394/500\n6/6 [==============================] - 0s 701us/sample - loss: 0.7277\nEpoch 395/500\n6/6 [==============================] - 0s 562us/sample - loss: 0.7261\nEpoch 396/500\n6/6 [==============================] - 0s 1ms/sample - loss: 0.7245\nEpoch 397/500\n6/6 [==============================] - 0s 411us/sample - loss: 0.7229\nEpoch 398/500\n6/6 [==============================] - 0s 952us/sample - loss: 0.7214\nEpoch 399/500\n6/6 [==============================] - 0s 242us/sample - loss: 0.7198\nEpoch 400/500\n6/6 [==============================] - 0s 1ms/sample - loss: 0.7183\nEpoch 401/500\n6/6 [==============================] - 0s 224us/sample - loss: 0.7167\nEpoch 402/500\n6/6 [==============================] - 0s 519us/sample - loss: 0.7152\nEpoch 403/500\n6/6 [==============================] - 0s 242us/sample - loss: 0.7136\nEpoch 404/500\n6/6 [==============================] - 0s 650us/sample - loss: 0.7121\nEpoch 405/500\n6/6 [==============================] - 0s 701us/sample - loss: 0.7106\nEpoch 406/500\n6/6 [==============================] - 0s 1ms/sample - loss: 0.7090\nEpoch 407/500\n6/6 [==============================] - 0s 627us/sample - loss: 0.7075\nEpoch 408/500\n6/6 [==============================] - 0s 366us/sample - loss: 0.7060\nEpoch 409/500\n6/6 [==============================] - 0s 1ms/sample - loss: 0.7045\nEpoch 410/500\n6/6 [==============================] - 0s 336us/sample - loss: 0.7030\nEpoch 411/500\n6/6 [==============================] - 0s 2ms/sample - loss: 0.7015\nEpoch 412/500\n6/6 [==============================] - 0s 669us/sample - loss: 0.7000\nEpoch 413/500\n6/6 [==============================] - 0s 1ms/sample - loss: 0.6985\nEpoch 414/500\n6/6 [==============================] - 0s 166us/sample - loss: 0.6970\nEpoch 415/500\n6/6 [==============================] - 0s 3ms/sample - loss: 0.6955\nEpoch 416/500\n6/6 [==============================] - 0s 336us/sample - loss: 0.6940\nEpoch 417/500\n6/6 [==============================] - 0s 0s/sample - loss: 0.6925\nEpoch 418/500\n6/6 [==============================] - 0s 673us/sample - loss: 0.6911\nEpoch 419/500\n6/6 [==============================] - 0s 676us/sample - loss: 0.6896\nEpoch 420/500\n6/6 [==============================] - 0s 527us/sample - loss: 0.6881\nEpoch 421/500\n6/6 [==============================] - 0s 696us/sample - loss: 0.6867\nEpoch 422/500\n6/6 [==============================] - 0s 492us/sample - loss: 0.6852\nEpoch 423/500\n6/6 [==============================] - 0s 417us/sample - loss: 0.6837\nEpoch 424/500\n6/6 [==============================] - 0s 166us/sample - loss: 0.6823\nEpoch 425/500\n6/6 [==============================] - 0s 332us/sample - loss: 0.6809\nEpoch 426/500\n6/6 [==============================] - 0s 586us/sample - loss: 0.6794\nEpoch 427/500\n6/6 [==============================] - 0s 531us/sample - loss: 0.6780\nEpoch 428/500\n6/6 [==============================] - 0s 193us/sample - loss: 0.6765\nEpoch 429/500\n6/6 [==============================] - 0s 167us/sample - loss: 0.6751\nEpoch 430/500\n6/6 [==============================] - 0s 363us/sample - loss: 0.6737\nEpoch 431/500\n6/6 [==============================] - 0s 715us/sample - loss: 0.6722\nEpoch 432/500\n6/6 [==============================] - 0s 512us/sample - loss: 0.6708\nEpoch 433/500\n6/6 [==============================] - 0s 287us/sample - loss: 0.6694\nEpoch 434/500\n6/6 [==============================] - 0s 594us/sample - loss: 0.6680\nEpoch 435/500\n6/6 [==============================] - 0s 544us/sample - loss: 0.6666\nEpoch 436/500\n6/6 [==============================] - 0s 185us/sample - loss: 0.6652\nEpoch 437/500\n6/6 [==============================] - 0s 532us/sample - loss: 0.6638\nEpoch 438/500\n6/6 [==============================] - 0s 315us/sample - loss: 0.6624\nEpoch 439/500\n6/6 [==============================] - 0s 428us/sample - loss: 0.6610\nEpoch 440/500\n6/6 [==============================] - 0s 279us/sample - loss: 0.6596\nEpoch 441/500\n6/6 [==============================] - 0s 276us/sample - loss: 0.6582\nEpoch 442/500\n6/6 [==============================] - 0s 395us/sample - loss: 0.6568\nEpoch 443/500\n6/6 [==============================] - 0s 342us/sample - loss: 0.6554\nEpoch 444/500\n6/6 [==============================] - 0s 281us/sample - loss: 0.6541\nEpoch 445/500\n6/6 [==============================] - 0s 342us/sample - loss: 0.6527\nEpoch 446/500\n6/6 [==============================] - 0s 167us/sample - loss: 0.6513\nEpoch 447/500\n6/6 [==============================] - 0s 311us/sample - loss: 0.6499\nEpoch 448/500\n6/6 [==============================] - 0s 333us/sample - loss: 0.6486\nEpoch 449/500\n6/6 [==============================] - 0s 333us/sample - loss: 0.6472\nEpoch 450/500\n6/6 [==============================] - 0s 399us/sample - loss: 0.6459\nEpoch 451/500\n6/6 [==============================] - 0s 442us/sample - loss: 0.6445\nEpoch 452/500\n6/6 [==============================] - 0s 751us/sample - loss: 0.6432\nEpoch 453/500\n6/6 [==============================] - 0s 345us/sample - loss: 0.6418\nEpoch 454/500\n6/6 [==============================] - 0s 166us/sample - loss: 0.6405\nEpoch 455/500\n6/6 [==============================] - 0s 233us/sample - loss: 0.6391\nEpoch 456/500\n6/6 [==============================] - 0s 314us/sample - loss: 0.6378\nEpoch 457/500\n6/6 [==============================] - 0s 378us/sample - loss: 0.6365\nEpoch 458/500\n6/6 [==============================] - 0s 333us/sample - loss: 0.6351\nEpoch 459/500\n6/6 [==============================] - 0s 0s/sample - loss: 0.6338\nEpoch 460/500\n6/6 [==============================] - 0s 0s/sample - loss: 0.6325\nEpoch 461/500\n6/6 [==============================] - 0s 167us/sample - loss: 0.6311\nEpoch 462/500\n6/6 [==============================] - 0s 367us/sample - loss: 0.6298\nEpoch 463/500\n6/6 [==============================] - 0s 333us/sample - loss: 0.6285\nEpoch 464/500\n6/6 [==============================] - 0s 332us/sample - loss: 0.6272\nEpoch 465/500\n6/6 [==============================] - 0s 333us/sample - loss: 0.6259\nEpoch 466/500\n6/6 [==============================] - 0s 350us/sample - loss: 0.6246\nEpoch 467/500\n6/6 [==============================] - 0s 332us/sample - loss: 0.6233\nEpoch 468/500\n6/6 [==============================] - 0s 390us/sample - loss: 0.6220\nEpoch 469/500\n6/6 [==============================] - 0s 333us/sample - loss: 0.6207\nEpoch 470/500\n6/6 [==============================] - 0s 401us/sample - loss: 0.6194\nEpoch 471/500\n6/6 [==============================] - 0s 629us/sample - loss: 0.6181\nEpoch 472/500\n6/6 [==============================] - 0s 456us/sample - loss: 0.6168\nEpoch 473/500\n6/6 [==============================] - 0s 342us/sample - loss: 0.6155\nEpoch 474/500\n6/6 [==============================] - 0s 166us/sample - loss: 0.6142\nEpoch 475/500\n6/6 [==============================] - 0s 473us/sample - loss: 0.6130\nEpoch 476/500\n6/6 [==============================] - 0s 508us/sample - loss: 0.6117\nEpoch 477/500\n6/6 [==============================] - 0s 633us/sample - loss: 0.6104\nEpoch 478/500\n6/6 [==============================] - 0s 835us/sample - loss: 0.6091\nEpoch 479/500\n6/6 [==============================] - 0s 335us/sample - loss: 0.6079\nEpoch 480/500\n6/6 [==============================] - 0s 0s/sample - loss: 0.6066\nEpoch 481/500\n6/6 [==============================] - 0s 843us/sample - loss: 0.6053\nEpoch 482/500\n6/6 [==============================] - 0s 969us/sample - loss: 0.6041\nEpoch 483/500\n6/6 [==============================] - 0s 332us/sample - loss: 0.6028\nEpoch 484/500\n6/6 [==============================] - 0s 272us/sample - loss: 0.6016\nEpoch 485/500\n6/6 [==============================] - 0s 672us/sample - loss: 0.6003\nEpoch 486/500\n6/6 [==============================] - 0s 902us/sample - loss: 0.5991\nEpoch 487/500\n6/6 [==============================] - 0s 0s/sample - loss: 0.5978\nEpoch 488/500\n6/6 [==============================] - 0s 669us/sample - loss: 0.5966\nEpoch 489/500\n6/6 [==============================] - 0s 549us/sample - loss: 0.5953\nEpoch 490/500\n6/6 [==============================] - 0s 164us/sample - loss: 0.5941\nEpoch 491/500\n6/6 [==============================] - 0s 0s/sample - loss: 0.5929\nEpoch 492/500\n6/6 [==============================] - 0s 412us/sample - loss: 0.5916\nEpoch 493/500\n6/6 [==============================] - 0s 0s/sample - loss: 0.5904\nEpoch 494/500\n6/6 [==============================] - 0s 428us/sample - loss: 0.5892\nEpoch 495/500\n6/6 [==============================] - 0s 786us/sample - loss: 0.5879\nEpoch 496/500\n6/6 [==============================] - 0s 0s/sample - loss: 0.5867\nEpoch 497/500\n6/6 [==============================] - 0s 0s/sample - loss: 0.5855\nEpoch 498/500\n6/6 [==============================] - 0s 680us/sample - loss: 0.5843\nEpoch 499/500\n6/6 [==============================] - 0s 333us/sample - loss: 0.5831\nEpoch 500/500\n6/6 [==============================] - 0s 849us/sample - loss: 0.5819\n"
        },
        {
          "output_type": "execute_result",
          "data": {
            "text/plain": "<tensorflow.python.keras.callbacks.History at 0x25b742a1448>"
          },
          "metadata": {},
          "execution_count": 6
        }
      ]
    },
    {
      "cell_type": "markdown",
      "metadata": {
        "colab_type": "text",
        "id": "kaFIr71H2OZ-"
      },
      "source": [
        "Ok, now you have a model that has been trained to learn the relationshop between X and Y. You can use the **model.predict** method to have it figure out the Y for a previously unknown X. So, for example, if X = 10, what do you think Y will be? Take a guess before you run this code:"
      ]
    },
    {
      "cell_type": "code",
      "metadata": {
        "colab_type": "code",
        "id": "oxNzL4lS2Gui",
        "colab": {}
      },
      "source": [
        "print(model.predict([10.0]))"
      ],
      "execution_count": 7,
      "outputs": [
        {
          "output_type": "stream",
          "name": "stdout",
          "text": "[[16.678894]]\n"
        }
      ]
    },
    {
      "cell_type": "markdown",
      "metadata": {
        "colab_type": "text",
        "id": "btF2CSFH2iEX"
      },
      "source": [
        "You might have thought 19, right? But it ended up being a little under. Why do you think that is? \n",
        "\n",
        "Remember that neural networks deal with probabilities, so given the data that we fed the NN with, it calculated that there is a very high probability that the relationship between X and Y is Y=2X-1, but with only 6 data points we can't know for sure. As a result, the result for 10 is very close to 19, but not necessarily 19. \n",
        "\n",
        "As you work with neural networks, you'll see this pattern recurring. You will almost always deal with probabilities, not certainties, and will do a little bit of coding to figure out what the result is based on the probabilities, particularly when it comes to classification.\n"
      ]
    }
  ],
  "metadata": {
    "colab": {
      "name": "Course 1 - Part 2 - Lesson 2 - Notebook.ipynb",
      "provenance": [],
      "toc_visible": true
    },
    "kernelspec": {
      "display_name": "Python 3",
      "name": "python3"
    }
  },
  "nbformat": 4,
  "nbformat_minor": 0
}