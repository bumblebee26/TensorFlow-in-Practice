{
  "nbformat": 4,
  "nbformat_minor": 0,
  "metadata": {
    "accelerator": "GPU",
    "colab": {
      "name": "NLP Course - Week 3 Exercise Answer.ipynb",
      "provenance": []
    },
    "kernelspec": {
      "display_name": "Python 3",
      "name": "python3"
    }
  },
  "cells": [
    {
      "cell_type": "code",
      "metadata": {
        "id": "zX4Kg8DUTKWO",
        "colab_type": "code",
        "colab": {}
      },
      "source": [
        "#@title Licensed under the Apache License, Version 2.0 (the \"License\");\n",
        "# you may not use this file except in compliance with the License.\n",
        "# You may obtain a copy of the License at\n",
        "#\n",
        "# https://www.apache.org/licenses/LICENSE-2.0\n",
        "#\n",
        "# Unless required by applicable law or agreed to in writing, software\n",
        "# distributed under the License is distributed on an \"AS IS\" BASIS,\n",
        "# WITHOUT WARRANTIES OR CONDITIONS OF ANY KIND, either express or implied.\n",
        "# See the License for the specific language governing permissions and\n",
        "# limitations under the License."
      ],
      "execution_count": 0,
      "outputs": []
    },
    {
      "cell_type": "code",
      "metadata": {
        "colab_type": "code",
        "id": "hmA6EzkQJ5jt",
        "colab": {}
      },
      "source": [
        "import json\n",
        "import tensorflow as tf\n",
        "import csv\n",
        "import random\n",
        "import numpy as np\n",
        "\n",
        "from tensorflow.keras.preprocessing.text import Tokenizer\n",
        "from tensorflow.keras.preprocessing.sequence import pad_sequences\n",
        "from tensorflow.keras.utils import to_categorical\n",
        "from tensorflow.keras import regularizers\n",
        "\n",
        "\n",
        "embedding_dim = 100\n",
        "max_length = 16\n",
        "trunc_type='post'\n",
        "padding_type='post'\n",
        "oov_tok = \"<OOV>\"\n",
        "training_size=160000\n",
        "test_portion=.1\n",
        "\n",
        "corpus = []\n"
      ],
      "execution_count": 0,
      "outputs": []
    },
    {
      "cell_type": "code",
      "metadata": {
        "colab_type": "code",
        "id": "bM0l_dORKqE0",
        "outputId": "b0e7ade6-1dea-419a-bde0-d4d02c92d388",
        "colab": {
          "base_uri": "https://localhost:8080/",
          "height": 237
        }
      },
      "source": [
        "# Note that I cleaned the Stanford dataset to remove LATIN1 encoding to make it easier for Python CSV reader\n",
        "# You can do that yourself with:\n",
        "# iconv -f LATIN1 -t UTF8 training.1600000.processed.noemoticon.csv -o training_cleaned.csv\n",
        "# I then hosted it on my site to make it easier to use in this notebook\n",
        "\n",
        "!wget --no-check-certificate \\\n",
        "    https://storage.googleapis.com/laurencemoroney-blog.appspot.com/training_cleaned.csv \\\n",
        "    -O /tmp/training_cleaned.csv\n",
        "\n",
        "num_sentences = 0\n",
        "\n",
        "with open(\"/tmp/training_cleaned.csv\") as csvfile:\n",
        "    reader = csv.reader(csvfile, delimiter=',')\n",
        "    for row in reader:\n",
        "        list_item=[]\n",
        "        list_item.append(row[5])\n",
        "        this_label=row[0]\n",
        "        if this_label=='0':\n",
        "            list_item.append(0)\n",
        "        else:\n",
        "            list_item.append(1)\n",
        "        num_sentences = num_sentences + 1\n",
        "        corpus.append(list_item)\n"
      ],
      "execution_count": 3,
      "outputs": [
        {
          "output_type": "stream",
          "text": [
            "--2020-05-30 07:14:45--  https://storage.googleapis.com/laurencemoroney-blog.appspot.com/training_cleaned.csv\n",
            "Resolving storage.googleapis.com (storage.googleapis.com)... 74.125.206.128, 2a00:1450:400c:c0a::80\n",
            "Connecting to storage.googleapis.com (storage.googleapis.com)|74.125.206.128|:443... connected.\n",
            "HTTP request sent, awaiting response... 200 OK\n",
            "Length: 238942690 (228M) [application/octet-stream]\n",
            "Saving to: ‘/tmp/training_cleaned.csv’\n",
            "\n",
            "/tmp/training_clean 100%[===================>] 227.87M  43.6MB/s    in 5.2s    \n",
            "\n",
            "2020-05-30 07:14:51 (43.6 MB/s) - ‘/tmp/training_cleaned.csv’ saved [238942690/238942690]\n",
            "\n"
          ],
          "name": "stdout"
        }
      ]
    },
    {
      "cell_type": "code",
      "metadata": {
        "colab_type": "code",
        "id": "3kxblBUjEUX-",
        "outputId": "411315bf-432a-48e1-f661-69b9a6ba9615",
        "colab": {
          "base_uri": "https://localhost:8080/",
          "height": 92
        }
      },
      "source": [
        "print(num_sentences)\n",
        "print(len(corpus))\n",
        "print(corpus[1])\n",
        "\n",
        "# Expected Output:\n",
        "# 1600000\n",
        "# 1600000\n",
        "# [\"is upset that he can't update his Facebook by texting it... and might cry as a result  School today also. Blah!\", 0]"
      ],
      "execution_count": 4,
      "outputs": [
        {
          "output_type": "stream",
          "text": [
            "1600000\n",
            "1600000\n",
            "[\"is upset that he can't update his Facebook by texting it... and might cry as a result  School today also. Blah!\", 0]\n"
          ],
          "name": "stdout"
        }
      ]
    },
    {
      "cell_type": "code",
      "metadata": {
        "colab_type": "code",
        "id": "ohOGz24lsNAD",
        "colab": {}
      },
      "source": [
        "sentences=[]\n",
        "labels=[]\n",
        "random.shuffle(corpus)\n",
        "for x in range(training_size):\n",
        "    sentences.append(corpus[x][0])\n",
        "    labels.append(corpus[x][1])\n",
        "\n",
        "\n",
        "tokenizer = Tokenizer()\n",
        "tokenizer.fit_on_texts(sentences)\n",
        "\n",
        "word_index = tokenizer.word_index\n",
        "vocab_size=len(word_index)\n",
        "\n",
        "sequences = tokenizer.texts_to_sequences(sentences)\n",
        "padded = pad_sequences(sequences, maxlen=max_length, padding=padding_type, truncating=trunc_type)\n",
        "\n",
        "split = int(test_portion * training_size)\n",
        "\n",
        "test_sequences = padded[0:split]\n",
        "training_sequences = padded[split:training_size]\n",
        "test_labels = labels[0:split]\n",
        "training_labels = labels[split:training_size]\n",
        "\n",
        "training_sequences = np.array(training_sequences)\n",
        "training_labels = np.array(training_labels)\n",
        "test_sequences = np.array(test_sequences)\n",
        "test_labels = np.array(test_labels)"
      ],
      "execution_count": 0,
      "outputs": []
    },
    {
      "cell_type": "code",
      "metadata": {
        "colab_type": "code",
        "id": "gIrtRem1En3N",
        "outputId": "c4abfefe-1cb6-47d4-ea13-c74e60062605",
        "colab": {
          "base_uri": "https://localhost:8080/",
          "height": 53
        }
      },
      "source": [
        "print(vocab_size)\n",
        "print(word_index['i'])\n",
        "# Expected Output\n",
        "# 138858\n",
        "# 1"
      ],
      "execution_count": 11,
      "outputs": [
        {
          "output_type": "stream",
          "text": [
            "137979\n",
            "1\n"
          ],
          "name": "stdout"
        }
      ]
    },
    {
      "cell_type": "code",
      "metadata": {
        "colab_type": "code",
        "id": "C1zdgJkusRh0",
        "outputId": "1ec996fe-674b-491b-8ca8-71d588e4e2d9",
        "colab": {
          "base_uri": "https://localhost:8080/",
          "height": 237
        }
      },
      "source": [
        "# Note this is the 100 dimension version of GloVe from Stanford\n",
        "# I unzipped and hosted it on my site to make this notebook easier\n",
        "!wget --no-check-certificate \\\n",
        "    https://storage.googleapis.com/laurencemoroney-blog.appspot.com/glove.6B.100d.txt \\\n",
        "    -O /tmp/glove.6B.100d.txt\n",
        "embeddings_index = {};\n",
        "with open('/tmp/glove.6B.100d.txt') as f:\n",
        "    for line in f:\n",
        "        values = line.split();\n",
        "        word = values[0];\n",
        "        coefs = np.asarray(values[1:], dtype='float32');\n",
        "        embeddings_index[word] = coefs;\n",
        "\n",
        "embeddings_matrix = np.zeros((vocab_size+1, embedding_dim));\n",
        "for word, i in word_index.items():\n",
        "    embedding_vector = embeddings_index.get(word);\n",
        "    if embedding_vector is not None:\n",
        "        embeddings_matrix[i] = embedding_vector;"
      ],
      "execution_count": 12,
      "outputs": [
        {
          "output_type": "stream",
          "text": [
            "--2020-05-30 07:16:32--  https://storage.googleapis.com/laurencemoroney-blog.appspot.com/glove.6B.100d.txt\n",
            "Resolving storage.googleapis.com (storage.googleapis.com)... 74.125.206.128, 2a00:1450:400c:c09::80\n",
            "Connecting to storage.googleapis.com (storage.googleapis.com)|74.125.206.128|:443... connected.\n",
            "HTTP request sent, awaiting response... 200 OK\n",
            "Length: 347116733 (331M) [text/plain]\n",
            "Saving to: ‘/tmp/glove.6B.100d.txt’\n",
            "\n",
            "/tmp/glove.6B.100d. 100%[===================>] 331.04M   194MB/s    in 1.7s    \n",
            "\n",
            "2020-05-30 07:16:34 (194 MB/s) - ‘/tmp/glove.6B.100d.txt’ saved [347116733/347116733]\n",
            "\n"
          ],
          "name": "stdout"
        }
      ]
    },
    {
      "cell_type": "code",
      "metadata": {
        "colab_type": "code",
        "id": "71NLk_lpFLNt",
        "outputId": "fe493e3b-584e-40d9-f658-9a080a3d2ef1",
        "colab": {
          "base_uri": "https://localhost:8080/",
          "height": 35
        }
      },
      "source": [
        "print(len(embeddings_matrix))\n",
        "# Expected Output\n",
        "# 138859"
      ],
      "execution_count": 13,
      "outputs": [
        {
          "output_type": "stream",
          "text": [
            "137980\n"
          ],
          "name": "stdout"
        }
      ]
    },
    {
      "cell_type": "code",
      "metadata": {
        "colab_type": "code",
        "id": "iKKvbuEBOGFz",
        "colab": {
          "base_uri": "https://localhost:8080/",
          "height": 1000
        },
        "outputId": "89dd3848-5d92-41ff-d41e-da6ef6fffe40"
      },
      "source": [
        "model = tf.keras.Sequential([\n",
        "    tf.keras.layers.Embedding(vocab_size+1, embedding_dim, input_length=max_length, weights=[embeddings_matrix], trainable=False),\n",
        "    tf.keras.layers.Dropout(0.2),\n",
        "    tf.keras.layers.Conv1D(64, 5, activation='relu'),\n",
        "    tf.keras.layers.MaxPooling1D(pool_size=4),\n",
        "    tf.keras.layers.LSTM(64),\n",
        "    tf.keras.layers.Dense(1, activation='sigmoid')\n",
        "])\n",
        "model.compile(loss='binary_crossentropy',optimizer='adam',metrics=['accuracy'])\n",
        "model.summary()\n",
        "\n",
        "num_epochs = 50\n",
        "history = model.fit(training_sequences, training_labels, epochs=num_epochs, validation_data=(test_sequences, test_labels), verbose=2)\n",
        "\n",
        "print(\"Training Complete\")\n"
      ],
      "execution_count": 14,
      "outputs": [
        {
          "output_type": "stream",
          "text": [
            "Model: \"sequential_1\"\n",
            "_________________________________________________________________\n",
            "Layer (type)                 Output Shape              Param #   \n",
            "=================================================================\n",
            "embedding_1 (Embedding)      (None, 16, 100)           13798000  \n",
            "_________________________________________________________________\n",
            "dropout_1 (Dropout)          (None, 16, 100)           0         \n",
            "_________________________________________________________________\n",
            "conv1d_1 (Conv1D)            (None, 12, 64)            32064     \n",
            "_________________________________________________________________\n",
            "max_pooling1d_1 (MaxPooling1 (None, 3, 64)             0         \n",
            "_________________________________________________________________\n",
            "lstm_1 (LSTM)                (None, 64)                33024     \n",
            "_________________________________________________________________\n",
            "dense_1 (Dense)              (None, 1)                 65        \n",
            "=================================================================\n",
            "Total params: 13,863,153\n",
            "Trainable params: 65,153\n",
            "Non-trainable params: 13,798,000\n",
            "_________________________________________________________________\n",
            "Epoch 1/50\n",
            "4500/4500 - 21s - loss: 0.5672 - accuracy: 0.7001 - val_loss: 0.5319 - val_accuracy: 0.7287\n",
            "Epoch 2/50\n",
            "4500/4500 - 21s - loss: 0.5277 - accuracy: 0.7316 - val_loss: 0.5138 - val_accuracy: 0.7431\n",
            "Epoch 3/50\n",
            "4500/4500 - 21s - loss: 0.5124 - accuracy: 0.7434 - val_loss: 0.5137 - val_accuracy: 0.7450\n",
            "Epoch 4/50\n",
            "4500/4500 - 21s - loss: 0.4997 - accuracy: 0.7514 - val_loss: 0.5026 - val_accuracy: 0.7487\n",
            "Epoch 5/50\n",
            "4500/4500 - 21s - loss: 0.4918 - accuracy: 0.7584 - val_loss: 0.5098 - val_accuracy: 0.7531\n",
            "Epoch 6/50\n",
            "4500/4500 - 21s - loss: 0.4835 - accuracy: 0.7645 - val_loss: 0.5028 - val_accuracy: 0.7484\n",
            "Epoch 7/50\n",
            "4500/4500 - 21s - loss: 0.4791 - accuracy: 0.7657 - val_loss: 0.5008 - val_accuracy: 0.7546\n",
            "Epoch 8/50\n",
            "4500/4500 - 21s - loss: 0.4740 - accuracy: 0.7696 - val_loss: 0.5084 - val_accuracy: 0.7494\n",
            "Epoch 9/50\n",
            "4500/4500 - 21s - loss: 0.4684 - accuracy: 0.7733 - val_loss: 0.5147 - val_accuracy: 0.7464\n",
            "Epoch 10/50\n",
            "4500/4500 - 21s - loss: 0.4646 - accuracy: 0.7738 - val_loss: 0.5055 - val_accuracy: 0.7501\n",
            "Epoch 11/50\n",
            "4500/4500 - 21s - loss: 0.4609 - accuracy: 0.7767 - val_loss: 0.5083 - val_accuracy: 0.7508\n",
            "Epoch 12/50\n",
            "4500/4500 - 21s - loss: 0.4582 - accuracy: 0.7786 - val_loss: 0.5172 - val_accuracy: 0.7491\n",
            "Epoch 13/50\n",
            "4500/4500 - 21s - loss: 0.4555 - accuracy: 0.7797 - val_loss: 0.5096 - val_accuracy: 0.7513\n",
            "Epoch 14/50\n",
            "4500/4500 - 21s - loss: 0.4529 - accuracy: 0.7816 - val_loss: 0.5067 - val_accuracy: 0.7519\n",
            "Epoch 15/50\n",
            "4500/4500 - 21s - loss: 0.4492 - accuracy: 0.7835 - val_loss: 0.5147 - val_accuracy: 0.7455\n",
            "Epoch 16/50\n",
            "4500/4500 - 21s - loss: 0.4489 - accuracy: 0.7847 - val_loss: 0.5130 - val_accuracy: 0.7481\n",
            "Epoch 17/50\n",
            "4500/4500 - 21s - loss: 0.4472 - accuracy: 0.7859 - val_loss: 0.5142 - val_accuracy: 0.7490\n",
            "Epoch 18/50\n",
            "4500/4500 - 21s - loss: 0.4466 - accuracy: 0.7852 - val_loss: 0.5104 - val_accuracy: 0.7503\n",
            "Epoch 19/50\n",
            "4500/4500 - 21s - loss: 0.4442 - accuracy: 0.7868 - val_loss: 0.5148 - val_accuracy: 0.7489\n",
            "Epoch 20/50\n",
            "4500/4500 - 21s - loss: 0.4433 - accuracy: 0.7865 - val_loss: 0.5140 - val_accuracy: 0.7519\n",
            "Epoch 21/50\n",
            "4500/4500 - 21s - loss: 0.4431 - accuracy: 0.7871 - val_loss: 0.5165 - val_accuracy: 0.7494\n",
            "Epoch 22/50\n",
            "4500/4500 - 21s - loss: 0.4420 - accuracy: 0.7878 - val_loss: 0.5232 - val_accuracy: 0.7484\n",
            "Epoch 23/50\n",
            "4500/4500 - 21s - loss: 0.4394 - accuracy: 0.7891 - val_loss: 0.5187 - val_accuracy: 0.7511\n",
            "Epoch 24/50\n",
            "4500/4500 - 21s - loss: 0.4394 - accuracy: 0.7893 - val_loss: 0.5153 - val_accuracy: 0.7514\n",
            "Epoch 25/50\n",
            "4500/4500 - 21s - loss: 0.4394 - accuracy: 0.7895 - val_loss: 0.5155 - val_accuracy: 0.7489\n",
            "Epoch 26/50\n",
            "4500/4500 - 21s - loss: 0.4379 - accuracy: 0.7902 - val_loss: 0.5185 - val_accuracy: 0.7534\n",
            "Epoch 27/50\n",
            "4500/4500 - 21s - loss: 0.4379 - accuracy: 0.7909 - val_loss: 0.5193 - val_accuracy: 0.7499\n",
            "Epoch 28/50\n",
            "4500/4500 - 21s - loss: 0.4373 - accuracy: 0.7918 - val_loss: 0.5227 - val_accuracy: 0.7458\n",
            "Epoch 29/50\n",
            "4500/4500 - 21s - loss: 0.4350 - accuracy: 0.7921 - val_loss: 0.5217 - val_accuracy: 0.7491\n",
            "Epoch 30/50\n",
            "4500/4500 - 21s - loss: 0.4354 - accuracy: 0.7920 - val_loss: 0.5208 - val_accuracy: 0.7494\n",
            "Epoch 31/50\n",
            "4500/4500 - 21s - loss: 0.4347 - accuracy: 0.7931 - val_loss: 0.5208 - val_accuracy: 0.7483\n",
            "Epoch 32/50\n",
            "4500/4500 - 21s - loss: 0.4338 - accuracy: 0.7938 - val_loss: 0.5154 - val_accuracy: 0.7502\n",
            "Epoch 33/50\n",
            "4500/4500 - 21s - loss: 0.4342 - accuracy: 0.7936 - val_loss: 0.5179 - val_accuracy: 0.7492\n",
            "Epoch 34/50\n",
            "4500/4500 - 21s - loss: 0.4339 - accuracy: 0.7933 - val_loss: 0.5168 - val_accuracy: 0.7461\n",
            "Epoch 35/50\n",
            "4500/4500 - 21s - loss: 0.4328 - accuracy: 0.7942 - val_loss: 0.5259 - val_accuracy: 0.7494\n",
            "Epoch 36/50\n",
            "4500/4500 - 21s - loss: 0.4313 - accuracy: 0.7950 - val_loss: 0.5186 - val_accuracy: 0.7479\n",
            "Epoch 37/50\n",
            "4500/4500 - 21s - loss: 0.4322 - accuracy: 0.7941 - val_loss: 0.5223 - val_accuracy: 0.7492\n",
            "Epoch 38/50\n",
            "4500/4500 - 21s - loss: 0.4311 - accuracy: 0.7945 - val_loss: 0.5217 - val_accuracy: 0.7493\n",
            "Epoch 39/50\n",
            "4500/4500 - 21s - loss: 0.4319 - accuracy: 0.7941 - val_loss: 0.5198 - val_accuracy: 0.7474\n",
            "Epoch 40/50\n",
            "4500/4500 - 21s - loss: 0.4300 - accuracy: 0.7949 - val_loss: 0.5209 - val_accuracy: 0.7497\n",
            "Epoch 41/50\n",
            "4500/4500 - 21s - loss: 0.4294 - accuracy: 0.7968 - val_loss: 0.5219 - val_accuracy: 0.7473\n",
            "Epoch 42/50\n",
            "4500/4500 - 21s - loss: 0.4302 - accuracy: 0.7962 - val_loss: 0.5201 - val_accuracy: 0.7482\n",
            "Epoch 43/50\n",
            "4500/4500 - 21s - loss: 0.4302 - accuracy: 0.7944 - val_loss: 0.5216 - val_accuracy: 0.7498\n",
            "Epoch 44/50\n",
            "4500/4500 - 20s - loss: 0.4300 - accuracy: 0.7953 - val_loss: 0.5222 - val_accuracy: 0.7459\n",
            "Epoch 45/50\n",
            "4500/4500 - 21s - loss: 0.4292 - accuracy: 0.7948 - val_loss: 0.5192 - val_accuracy: 0.7456\n",
            "Epoch 46/50\n",
            "4500/4500 - 21s - loss: 0.4294 - accuracy: 0.7952 - val_loss: 0.5247 - val_accuracy: 0.7461\n",
            "Epoch 47/50\n",
            "4500/4500 - 21s - loss: 0.4285 - accuracy: 0.7965 - val_loss: 0.5216 - val_accuracy: 0.7486\n",
            "Epoch 48/50\n",
            "4500/4500 - 21s - loss: 0.4291 - accuracy: 0.7962 - val_loss: 0.5193 - val_accuracy: 0.7473\n",
            "Epoch 49/50\n",
            "4500/4500 - 21s - loss: 0.4274 - accuracy: 0.7970 - val_loss: 0.5293 - val_accuracy: 0.7459\n",
            "Epoch 50/50\n",
            "4500/4500 - 21s - loss: 0.4289 - accuracy: 0.7968 - val_loss: 0.5268 - val_accuracy: 0.7494\n",
            "Training Complete\n"
          ],
          "name": "stdout"
        }
      ]
    },
    {
      "cell_type": "code",
      "metadata": {
        "colab_type": "code",
        "id": "qxju4ItJKO8F",
        "colab": {
          "base_uri": "https://localhost:8080/",
          "height": 609
        },
        "outputId": "5fb98192-20f4-4e28-ae56-61a3d3b27fd1"
      },
      "source": [
        "import matplotlib.image  as mpimg\n",
        "import matplotlib.pyplot as plt\n",
        "\n",
        "#-----------------------------------------------------------\n",
        "# Retrieve a list of list results on training and test data\n",
        "# sets for each training epoch\n",
        "#-----------------------------------------------------------\n",
        "acc=history.history['accuracy']\n",
        "val_acc=history.history['val_accuracy']\n",
        "loss=history.history['loss']\n",
        "val_loss=history.history['val_loss']\n",
        "\n",
        "epochs=range(len(acc)) # Get number of epochs\n",
        "\n",
        "#------------------------------------------------\n",
        "# Plot training and validation accuracy per epoch\n",
        "#------------------------------------------------\n",
        "plt.plot(epochs, acc, 'r')\n",
        "plt.plot(epochs, val_acc, 'b')\n",
        "plt.title('Training and validation accuracy')\n",
        "plt.xlabel(\"Epochs\")\n",
        "plt.ylabel(\"Accuracy\")\n",
        "plt.legend([\"Accuracy\", \"Validation Accuracy\"])\n",
        "\n",
        "plt.figure()\n",
        "\n",
        "#------------------------------------------------\n",
        "# Plot training and validation loss per epoch\n",
        "#------------------------------------------------\n",
        "plt.plot(epochs, loss, 'r')\n",
        "plt.plot(epochs, val_loss, 'b')\n",
        "plt.title('Training and validation loss')\n",
        "plt.xlabel(\"Epochs\")\n",
        "plt.ylabel(\"Loss\")\n",
        "plt.legend([\"Loss\", \"Validation Loss\"])\n",
        "\n",
        "plt.figure()\n",
        "\n",
        "\n",
        "# Expected Output\n",
        "# A chart where the validation loss does not increase sharply!"
      ],
      "execution_count": 15,
      "outputs": [
        {
          "output_type": "execute_result",
          "data": {
            "text/plain": [
              "<Figure size 432x288 with 0 Axes>"
            ]
          },
          "metadata": {
            "tags": []
          },
          "execution_count": 15
        },
        {
          "output_type": "display_data",
          "data": {
            "image/png": "[encoded data removed]",
            "text/plain": [
              "<Figure size 432x288 with 1 Axes>"
            ]
          },
          "metadata": {
            "tags": [],
            "needs_background": "light"
          }
        },
        {
          "output_type": "display_data",
          "data": {
            "image/png": "[encoded data removed]",
            "text/plain": [
              "<Figure size 432x288 with 1 Axes>"
            ]
          },
          "metadata": {
            "tags": [],
            "needs_background": "light"
          }
        },
        {
          "output_type": "display_data",
          "data": {
            "text/plain": [
              "<Figure size 432x288 with 0 Axes>"
            ]
          },
          "metadata": {
            "tags": []
          }
        }
      ]
    }
  ]
}