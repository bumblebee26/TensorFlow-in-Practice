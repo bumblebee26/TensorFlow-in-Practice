{
  "nbformat": 4,
  "nbformat_minor": 0,
  "metadata": {
    "accelerator": "GPU",
    "colab": {
      "name": "NLP_Week4_Exercise_Shakespeare_Answer.ipynb",
      "provenance": []
    },
    "kernelspec": {
      "display_name": "Python 3",
      "name": "python3"
    }
  },
  "cells": [
    {
      "cell_type": "code",
      "metadata": {
        "id": "zX4Kg8DUTKWO",
        "colab_type": "code",
        "colab": {}
      },
      "source": [
        "#@title Licensed under the Apache License, Version 2.0 (the \"License\");\n",
        "# you may not use this file except in compliance with the License.\n",
        "# You may obtain a copy of the License at\n",
        "#\n",
        "# https://www.apache.org/licenses/LICENSE-2.0\n",
        "#\n",
        "# Unless required by applicable law or agreed to in writing, software\n",
        "# distributed under the License is distributed on an \"AS IS\" BASIS,\n",
        "# WITHOUT WARRANTIES OR CONDITIONS OF ANY KIND, either express or implied.\n",
        "# See the License for the specific language governing permissions and\n",
        "# limitations under the License."
      ],
      "execution_count": 0,
      "outputs": []
    },
    {
      "cell_type": "code",
      "metadata": {
        "colab_type": "code",
        "id": "BOwsuGQQY9OL",
        "colab": {}
      },
      "source": [
        "from tensorflow.keras.preprocessing.sequence import pad_sequences\n",
        "from tensorflow.keras.layers import Embedding, LSTM, Dense, Dropout, Bidirectional\n",
        "from tensorflow.keras.preprocessing.text import Tokenizer\n",
        "from tensorflow.keras.models import Sequential\n",
        "from tensorflow.keras.optimizers import Adam\n",
        "from tensorflow.keras import regularizers\n",
        "import tensorflow.keras.utils as ku \n",
        "import numpy as np "
      ],
      "execution_count": 0,
      "outputs": []
    },
    {
      "cell_type": "code",
      "metadata": {
        "colab_type": "code",
        "id": "PRnDnCW-Z7qv",
        "colab": {
          "base_uri": "https://localhost:8080/",
          "height": 237
        },
        "outputId": "4880cd4a-b305-42de-c0b2-1fe90243c15d"
      },
      "source": [
        "tokenizer = Tokenizer()\n",
        "!wget --no-check-certificate \\\n",
        "    https://storage.googleapis.com/laurencemoroney-blog.appspot.com/sonnets.txt \\\n",
        "    -O /tmp/sonnets.txt\n",
        "data = open('/tmp/sonnets.txt').read()\n",
        "\n",
        "corpus = data.lower().split(\"\\n\")\n",
        "\n",
        "\n",
        "tokenizer.fit_on_texts(corpus)\n",
        "total_words = len(tokenizer.word_index) + 1\n",
        "\n",
        "# create input sequences using list of tokens\n",
        "input_sequences = []\n",
        "for line in corpus:\n",
        "\ttoken_list = tokenizer.texts_to_sequences([line])[0]\n",
        "\tfor i in range(1, len(token_list)):\n",
        "\t\tn_gram_sequence = token_list[:i+1]\n",
        "\t\tinput_sequences.append(n_gram_sequence)\n",
        "\n",
        "\n",
        "# pad sequences \n",
        "max_sequence_len = max([len(x) for x in input_sequences])\n",
        "input_sequences = np.array(pad_sequences(input_sequences, maxlen=max_sequence_len, padding='pre'))\n",
        "\n",
        "# create predictors and label\n",
        "predictors, label = input_sequences[:,:-1],input_sequences[:,-1]\n",
        "\n",
        "label = ku.to_categorical(label, num_classes=total_words)"
      ],
      "execution_count": 3,
      "outputs": [
        {
          "output_type": "stream",
          "text": [
            "--2020-05-31 11:23:45--  https://storage.googleapis.com/laurencemoroney-blog.appspot.com/sonnets.txt\n",
            "Resolving storage.googleapis.com (storage.googleapis.com)... 74.125.130.128, 2404:6800:4003:c03::80\n",
            "Connecting to storage.googleapis.com (storage.googleapis.com)|74.125.130.128|:443... connected.\n",
            "HTTP request sent, awaiting response... 200 OK\n",
            "Length: 93578 (91K) [text/plain]\n",
            "Saving to: ‘/tmp/sonnets.txt’\n",
            "\n",
            "\r/tmp/sonnets.txt      0%[                    ]       0  --.-KB/s               \r/tmp/sonnets.txt    100%[===================>]  91.38K  --.-KB/s    in 0.001s  \n",
            "\n",
            "2020-05-31 11:23:46 (83.8 MB/s) - ‘/tmp/sonnets.txt’ saved [93578/93578]\n",
            "\n"
          ],
          "name": "stdout"
        }
      ]
    },
    {
      "cell_type": "code",
      "metadata": {
        "colab_type": "code",
        "id": "w9vH8Y59ajYL",
        "colab": {
          "base_uri": "https://localhost:8080/",
          "height": 399
        },
        "outputId": "1a20a478-1dc0-422d-ccfc-0d3e15237d58"
      },
      "source": [
        "model = Sequential()\n",
        "model.add(Embedding(total_words, 100, input_length=max_sequence_len-1))\n",
        "model.add(Bidirectional(LSTM(150, return_sequences = True)))\n",
        "model.add(Dropout(0.2))\n",
        "model.add(LSTM(100))\n",
        "model.add(Dense(total_words/2, activation='relu', kernel_regularizer=regularizers.l2(0.01)))\n",
        "model.add(Dense(total_words, activation='softmax'))\n",
        "model.compile(loss='categorical_crossentropy', optimizer='adam', metrics=['accuracy'])\n",
        "print(model.summary())\n"
      ],
      "execution_count": 4,
      "outputs": [
        {
          "output_type": "stream",
          "text": [
            "Model: \"sequential\"\n",
            "_________________________________________________________________\n",
            "Layer (type)                 Output Shape              Param #   \n",
            "=================================================================\n",
            "embedding (Embedding)        (None, 10, 100)           321100    \n",
            "_________________________________________________________________\n",
            "bidirectional (Bidirectional (None, 10, 300)           301200    \n",
            "_________________________________________________________________\n",
            "dropout (Dropout)            (None, 10, 300)           0         \n",
            "_________________________________________________________________\n",
            "lstm_1 (LSTM)                (None, 100)               160400    \n",
            "_________________________________________________________________\n",
            "dense (Dense)                (None, 1605)              162105    \n",
            "_________________________________________________________________\n",
            "dense_1 (Dense)              (None, 3211)              5156866   \n",
            "=================================================================\n",
            "Total params: 6,101,671\n",
            "Trainable params: 6,101,671\n",
            "Non-trainable params: 0\n",
            "_________________________________________________________________\n",
            "None\n"
          ],
          "name": "stdout"
        }
      ]
    },
    {
      "cell_type": "code",
      "metadata": {
        "colab_type": "code",
        "id": "AIg2f1HBxqof",
        "colab": {
          "base_uri": "https://localhost:8080/",
          "height": 1000
        },
        "outputId": "8a321286-dd30-4545-fe21-e1ae844306cc"
      },
      "source": [
        " history = model.fit(predictors, label, epochs=100, verbose=1)"
      ],
      "execution_count": 5,
      "outputs": [
        {
          "output_type": "stream",
          "text": [
            "Epoch 1/100\n",
            "484/484 [==============================] - 5s 11ms/step - loss: 6.9054 - accuracy: 0.0196\n",
            "Epoch 2/100\n",
            "484/484 [==============================] - 5s 11ms/step - loss: 6.5066 - accuracy: 0.0227\n",
            "Epoch 3/100\n",
            "484/484 [==============================] - 6s 12ms/step - loss: 6.4139 - accuracy: 0.0237\n",
            "Epoch 4/100\n",
            "484/484 [==============================] - 6s 12ms/step - loss: 6.2944 - accuracy: 0.0269\n",
            "Epoch 5/100\n",
            "484/484 [==============================] - 5s 11ms/step - loss: 6.1956 - accuracy: 0.0352\n",
            "Epoch 6/100\n",
            "484/484 [==============================] - 6s 12ms/step - loss: 6.1142 - accuracy: 0.0391\n",
            "Epoch 7/100\n",
            "484/484 [==============================] - 5s 11ms/step - loss: 6.0384 - accuracy: 0.0403\n",
            "Epoch 8/100\n",
            "484/484 [==============================] - 6s 11ms/step - loss: 5.9610 - accuracy: 0.0459\n",
            "Epoch 9/100\n",
            "484/484 [==============================] - 5s 11ms/step - loss: 5.8782 - accuracy: 0.0501\n",
            "Epoch 10/100\n",
            "484/484 [==============================] - 6s 11ms/step - loss: 5.7798 - accuracy: 0.0572\n",
            "Epoch 11/100\n",
            "484/484 [==============================] - 5s 11ms/step - loss: 5.6836 - accuracy: 0.0641\n",
            "Epoch 12/100\n",
            "484/484 [==============================] - 6s 11ms/step - loss: 5.5842 - accuracy: 0.0675\n",
            "Epoch 13/100\n",
            "484/484 [==============================] - 6s 12ms/step - loss: 5.4876 - accuracy: 0.0712\n",
            "Epoch 14/100\n",
            "484/484 [==============================] - 6s 12ms/step - loss: 5.3890 - accuracy: 0.0761\n",
            "Epoch 15/100\n",
            "484/484 [==============================] - 6s 12ms/step - loss: 5.2920 - accuracy: 0.0823\n",
            "Epoch 16/100\n",
            "484/484 [==============================] - 6s 12ms/step - loss: 5.1965 - accuracy: 0.0891\n",
            "Epoch 17/100\n",
            "484/484 [==============================] - 5s 11ms/step - loss: 5.0974 - accuracy: 0.0942\n",
            "Epoch 18/100\n",
            "484/484 [==============================] - 5s 11ms/step - loss: 5.0017 - accuracy: 0.1015\n",
            "Epoch 19/100\n",
            "484/484 [==============================] - 6s 12ms/step - loss: 4.9136 - accuracy: 0.1059\n",
            "Epoch 20/100\n",
            "484/484 [==============================] - 5s 11ms/step - loss: 4.8141 - accuracy: 0.1134\n",
            "Epoch 21/100\n",
            "484/484 [==============================] - 5s 11ms/step - loss: 4.7150 - accuracy: 0.1255\n",
            "Epoch 22/100\n",
            "484/484 [==============================] - 5s 11ms/step - loss: 4.6228 - accuracy: 0.1312\n",
            "Epoch 23/100\n",
            "484/484 [==============================] - 6s 11ms/step - loss: 4.5265 - accuracy: 0.1405\n",
            "Epoch 24/100\n",
            "484/484 [==============================] - 5s 11ms/step - loss: 4.4357 - accuracy: 0.1494\n",
            "Epoch 25/100\n",
            "484/484 [==============================] - 5s 11ms/step - loss: 4.3334 - accuracy: 0.1612\n",
            "Epoch 26/100\n",
            "484/484 [==============================] - 6s 12ms/step - loss: 4.2500 - accuracy: 0.1708\n",
            "Epoch 27/100\n",
            "484/484 [==============================] - 6s 11ms/step - loss: 4.1367 - accuracy: 0.1857\n",
            "Epoch 28/100\n",
            "484/484 [==============================] - 6s 12ms/step - loss: 4.0524 - accuracy: 0.1995\n",
            "Epoch 29/100\n",
            "484/484 [==============================] - 5s 11ms/step - loss: 3.9528 - accuracy: 0.2134\n",
            "Epoch 30/100\n",
            "484/484 [==============================] - 6s 12ms/step - loss: 3.8650 - accuracy: 0.2306\n",
            "Epoch 31/100\n",
            "484/484 [==============================] - 6s 11ms/step - loss: 3.7723 - accuracy: 0.2462\n",
            "Epoch 32/100\n",
            "484/484 [==============================] - 6s 12ms/step - loss: 3.6843 - accuracy: 0.2581\n",
            "Epoch 33/100\n",
            "484/484 [==============================] - 5s 11ms/step - loss: 3.6024 - accuracy: 0.2811\n",
            "Epoch 34/100\n",
            "484/484 [==============================] - 6s 12ms/step - loss: 3.5212 - accuracy: 0.2964\n",
            "Epoch 35/100\n",
            "484/484 [==============================] - 6s 11ms/step - loss: 3.4316 - accuracy: 0.3149\n",
            "Epoch 36/100\n",
            "484/484 [==============================] - 5s 11ms/step - loss: 3.3533 - accuracy: 0.3355\n",
            "Epoch 37/100\n",
            "484/484 [==============================] - 5s 11ms/step - loss: 3.2702 - accuracy: 0.3491\n",
            "Epoch 38/100\n",
            "484/484 [==============================] - 5s 11ms/step - loss: 3.2049 - accuracy: 0.3632\n",
            "Epoch 39/100\n",
            "484/484 [==============================] - 5s 11ms/step - loss: 3.1217 - accuracy: 0.3838\n",
            "Epoch 40/100\n",
            "484/484 [==============================] - 5s 11ms/step - loss: 3.0426 - accuracy: 0.4022\n",
            "Epoch 41/100\n",
            "484/484 [==============================] - 5s 11ms/step - loss: 2.9832 - accuracy: 0.4144\n",
            "Epoch 42/100\n",
            "484/484 [==============================] - 5s 11ms/step - loss: 2.9207 - accuracy: 0.4275\n",
            "Epoch 43/100\n",
            "484/484 [==============================] - 5s 11ms/step - loss: 2.8510 - accuracy: 0.4421\n",
            "Epoch 44/100\n",
            "484/484 [==============================] - 5s 11ms/step - loss: 2.7922 - accuracy: 0.4593\n",
            "Epoch 45/100\n",
            "484/484 [==============================] - 6s 12ms/step - loss: 2.7185 - accuracy: 0.4724\n",
            "Epoch 46/100\n",
            "484/484 [==============================] - 6s 11ms/step - loss: 2.6716 - accuracy: 0.4870\n",
            "Epoch 47/100\n",
            "484/484 [==============================] - 5s 11ms/step - loss: 2.6155 - accuracy: 0.5021\n",
            "Epoch 48/100\n",
            "484/484 [==============================] - 6s 11ms/step - loss: 2.5533 - accuracy: 0.5158\n",
            "Epoch 49/100\n",
            "484/484 [==============================] - 5s 11ms/step - loss: 2.4942 - accuracy: 0.5270\n",
            "Epoch 50/100\n",
            "484/484 [==============================] - 6s 11ms/step - loss: 2.4479 - accuracy: 0.5365\n",
            "Epoch 51/100\n",
            "484/484 [==============================] - 5s 11ms/step - loss: 2.4003 - accuracy: 0.5492\n",
            "Epoch 52/100\n",
            "484/484 [==============================] - 6s 12ms/step - loss: 2.3460 - accuracy: 0.5625\n",
            "Epoch 53/100\n",
            "484/484 [==============================] - 6s 12ms/step - loss: 2.2965 - accuracy: 0.5697\n",
            "Epoch 54/100\n",
            "484/484 [==============================] - 6s 11ms/step - loss: 2.2570 - accuracy: 0.5827\n",
            "Epoch 55/100\n",
            "484/484 [==============================] - 5s 11ms/step - loss: 2.2005 - accuracy: 0.5955\n",
            "Epoch 56/100\n",
            "484/484 [==============================] - 5s 11ms/step - loss: 2.1694 - accuracy: 0.5979\n",
            "Epoch 57/100\n",
            "484/484 [==============================] - 5s 11ms/step - loss: 2.1316 - accuracy: 0.6116\n",
            "Epoch 58/100\n",
            "484/484 [==============================] - 6s 11ms/step - loss: 2.0747 - accuracy: 0.6240\n",
            "Epoch 59/100\n",
            "484/484 [==============================] - 6s 12ms/step - loss: 2.0401 - accuracy: 0.6254\n",
            "Epoch 60/100\n",
            "484/484 [==============================] - 6s 11ms/step - loss: 2.0145 - accuracy: 0.6341\n",
            "Epoch 61/100\n",
            "484/484 [==============================] - 5s 11ms/step - loss: 1.9744 - accuracy: 0.6418\n",
            "Epoch 62/100\n",
            "484/484 [==============================] - 6s 12ms/step - loss: 1.9366 - accuracy: 0.6537\n",
            "Epoch 63/100\n",
            "484/484 [==============================] - 6s 12ms/step - loss: 1.8953 - accuracy: 0.6599\n",
            "Epoch 64/100\n",
            "484/484 [==============================] - 6s 12ms/step - loss: 1.8730 - accuracy: 0.6660\n",
            "Epoch 65/100\n",
            "484/484 [==============================] - 6s 12ms/step - loss: 1.8360 - accuracy: 0.6697\n",
            "Epoch 66/100\n",
            "484/484 [==============================] - 5s 11ms/step - loss: 1.8080 - accuracy: 0.6801\n",
            "Epoch 67/100\n",
            "484/484 [==============================] - 5s 11ms/step - loss: 1.7886 - accuracy: 0.6808\n",
            "Epoch 68/100\n",
            "484/484 [==============================] - 6s 11ms/step - loss: 1.7616 - accuracy: 0.6869\n",
            "Epoch 69/100\n",
            "484/484 [==============================] - 6s 12ms/step - loss: 1.7159 - accuracy: 0.6995\n",
            "Epoch 70/100\n",
            "484/484 [==============================] - 6s 12ms/step - loss: 1.6929 - accuracy: 0.7042\n",
            "Epoch 71/100\n",
            "484/484 [==============================] - 5s 11ms/step - loss: 1.6812 - accuracy: 0.7050\n",
            "Epoch 72/100\n",
            "484/484 [==============================] - 5s 11ms/step - loss: 1.6520 - accuracy: 0.7091\n",
            "Epoch 73/100\n",
            "484/484 [==============================] - 5s 11ms/step - loss: 1.6184 - accuracy: 0.7160\n",
            "Epoch 74/100\n",
            "484/484 [==============================] - 5s 11ms/step - loss: 1.5989 - accuracy: 0.7204\n",
            "Epoch 75/100\n",
            "484/484 [==============================] - 6s 12ms/step - loss: 1.5692 - accuracy: 0.7265\n",
            "Epoch 76/100\n",
            "484/484 [==============================] - 6s 11ms/step - loss: 1.5577 - accuracy: 0.7266\n",
            "Epoch 77/100\n",
            "484/484 [==============================] - 5s 11ms/step - loss: 1.5505 - accuracy: 0.7285\n",
            "Epoch 78/100\n",
            "484/484 [==============================] - 5s 11ms/step - loss: 1.5148 - accuracy: 0.7382\n",
            "Epoch 79/100\n",
            "484/484 [==============================] - 6s 12ms/step - loss: 1.4880 - accuracy: 0.7413\n",
            "Epoch 80/100\n",
            "484/484 [==============================] - 6s 12ms/step - loss: 1.4646 - accuracy: 0.7478\n",
            "Epoch 81/100\n",
            "484/484 [==============================] - 6s 12ms/step - loss: 1.4374 - accuracy: 0.7535\n",
            "Epoch 82/100\n",
            "484/484 [==============================] - 5s 11ms/step - loss: 1.4307 - accuracy: 0.7538\n",
            "Epoch 83/100\n",
            "484/484 [==============================] - 6s 12ms/step - loss: 1.4211 - accuracy: 0.7562\n",
            "Epoch 84/100\n",
            "484/484 [==============================] - 6s 11ms/step - loss: 1.3965 - accuracy: 0.7593\n",
            "Epoch 85/100\n",
            "484/484 [==============================] - 5s 11ms/step - loss: 1.3894 - accuracy: 0.7570\n",
            "Epoch 86/100\n",
            "484/484 [==============================] - 6s 12ms/step - loss: 1.3681 - accuracy: 0.7644\n",
            "Epoch 87/100\n",
            "484/484 [==============================] - 6s 12ms/step - loss: 1.3455 - accuracy: 0.7689\n",
            "Epoch 88/100\n",
            "484/484 [==============================] - 6s 12ms/step - loss: 1.3255 - accuracy: 0.7742\n",
            "Epoch 89/100\n",
            "484/484 [==============================] - 6s 11ms/step - loss: 1.3148 - accuracy: 0.7731\n",
            "Epoch 90/100\n",
            "484/484 [==============================] - 6s 11ms/step - loss: 1.3114 - accuracy: 0.7723\n",
            "Epoch 91/100\n",
            "484/484 [==============================] - 6s 12ms/step - loss: 1.3107 - accuracy: 0.7710\n",
            "Epoch 92/100\n",
            "484/484 [==============================] - 5s 11ms/step - loss: 1.2998 - accuracy: 0.7753\n",
            "Epoch 93/100\n",
            "484/484 [==============================] - 5s 11ms/step - loss: 1.2654 - accuracy: 0.7828\n",
            "Epoch 94/100\n",
            "484/484 [==============================] - 6s 12ms/step - loss: 1.2581 - accuracy: 0.7833\n",
            "Epoch 95/100\n",
            "484/484 [==============================] - 6s 12ms/step - loss: 1.2444 - accuracy: 0.7844\n",
            "Epoch 96/100\n",
            "484/484 [==============================] - 6s 12ms/step - loss: 1.2266 - accuracy: 0.7874\n",
            "Epoch 97/100\n",
            "484/484 [==============================] - 6s 12ms/step - loss: 1.2213 - accuracy: 0.7872\n",
            "Epoch 98/100\n",
            "484/484 [==============================] - 6s 12ms/step - loss: 1.2040 - accuracy: 0.7899\n",
            "Epoch 99/100\n",
            "484/484 [==============================] - 6s 11ms/step - loss: 1.1947 - accuracy: 0.7928\n",
            "Epoch 100/100\n",
            "484/484 [==============================] - 6s 11ms/step - loss: 1.1866 - accuracy: 0.7956\n"
          ],
          "name": "stdout"
        }
      ]
    },
    {
      "cell_type": "code",
      "metadata": {
        "colab_type": "code",
        "id": "1fXTEO3GJ282",
        "colab": {
          "base_uri": "https://localhost:8080/",
          "height": 545
        },
        "outputId": "e159eaaf-e1d0-4044-d66e-896d7bafde97"
      },
      "source": [
        "import matplotlib.pyplot as plt\n",
        "acc = history.history['accuracy']\n",
        "loss = history.history['loss']\n",
        "\n",
        "epochs = range(len(acc))\n",
        "\n",
        "plt.plot(epochs, acc, 'b', label='Training accuracy')\n",
        "plt.title('Training accuracy')\n",
        "\n",
        "plt.figure()\n",
        "\n",
        "plt.plot(epochs, loss, 'b', label='Training Loss')\n",
        "plt.title('Training loss')\n",
        "plt.legend()\n",
        "\n",
        "plt.show()"
      ],
      "execution_count": 6,
      "outputs": [
        {
          "output_type": "display_data",
          "data": {
            "image/png": "[encoded data removed]",
            "text/plain": [
              "<Figure size 432x288 with 1 Axes>"
            ]
          },
          "metadata": {
            "tags": [],
            "needs_background": "light"
          }
        },
        {
          "output_type": "display_data",
          "data": {
            "image/png": "[encoded data removed]",
            "text/plain": [
              "<Figure size 432x288 with 1 Axes>"
            ]
          },
          "metadata": {
            "tags": [],
            "needs_background": "light"
          }
        }
      ]
    },
    {
      "cell_type": "code",
      "metadata": {
        "colab_type": "code",
        "id": "6Vc6PHgxa6Hm",
        "colab": {
          "base_uri": "https://localhost:8080/",
          "height": 110
        },
        "outputId": "2d97f74b-1a93-4504-b5d6-e239bb71c710"
      },
      "source": [
        "seed_text = \"Help me Obi Wan Kenobi, you're my only hope\"\n",
        "next_words = 100\n",
        "  \n",
        "for _ in range(next_words):\n",
        "\ttoken_list = tokenizer.texts_to_sequences([seed_text])[0]\n",
        "\ttoken_list = pad_sequences([token_list], maxlen=max_sequence_len-1, padding='pre')\n",
        "\tpredicted = model.predict_classes(token_list, verbose=0)\n",
        "\toutput_word = \"\"\n",
        "\tfor word, index in tokenizer.word_index.items():\n",
        "\t\tif index == predicted:\n",
        "\t\t\toutput_word = word\n",
        "\t\t\tbreak\n",
        "\tseed_text += \" \" + output_word\n",
        "print(seed_text)"
      ],
      "execution_count": 7,
      "outputs": [
        {
          "output_type": "stream",
          "text": [
            "WARNING:tensorflow:From <ipython-input-7-622d307fa19a>:7: Sequential.predict_classes (from tensorflow.python.keras.engine.sequential) is deprecated and will be removed after 2021-01-01.\n",
            "Instructions for updating:\n",
            "Please use instead:* `np.argmax(model.predict(x), axis=-1)`,   if your model does multi-class classification   (e.g. if it uses a `softmax` last-layer activation).* `(model.predict(x) > 0.5).astype(\"int32\")`,   if your model does binary classification   (e.g. if it uses a `sigmoid` last-layer activation).\n",
            "Help me Obi Wan Kenobi, you're my only hope your days are blot to eye of loss of set men age sits decease cured decrease gain shall praise were not are small mind most date grow thus gracious cheeks truth and 'will ' in in me kind doth me be living praise ' by ill bright prove thee for thee told you see my head part to thee not there now men prove thee end true ' shall live shall for love were end none bright hour hour heaven hath end awake told many men loving breast doth eye doth bear cross cross days happy still still might show\n"
          ],
          "name": "stdout"
        }
      ]
    }
  ]
}