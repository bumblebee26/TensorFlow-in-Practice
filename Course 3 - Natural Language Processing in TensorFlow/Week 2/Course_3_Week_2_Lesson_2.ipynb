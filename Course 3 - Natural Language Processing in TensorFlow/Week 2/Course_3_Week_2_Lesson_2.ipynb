{
  "nbformat": 4,
  "nbformat_minor": 0,
  "metadata": {
    "accelerator": "GPU",
    "colab": {
      "name": "Course 3 - Week 2 - Lesson 2.ipynb",
      "provenance": [],
      "collapsed_sections": []
    },
    "kernelspec": {
      "display_name": "Python 3",
      "name": "python3"
    }
  },
  "cells": [
    {
      "cell_type": "code",
      "metadata": {
        "id": "zX4Kg8DUTKWO",
        "colab_type": "code",
        "colab": {},
        "cellView": "form"
      },
      "source": [
        "#@title Licensed under the Apache License, Version 2.0 (the \"License\");\n",
        "# you may not use this file except in compliance with the License.\n",
        "# You may obtain a copy of the License at\n",
        "#\n",
        "# https://www.apache.org/licenses/LICENSE-2.0\n",
        "#\n",
        "# Unless required by applicable law or agreed to in writing, software\n",
        "# distributed under the License is distributed on an \"AS IS\" BASIS,\n",
        "# WITHOUT WARRANTIES OR CONDITIONS OF ANY KIND, either express or implied.\n",
        "# See the License for the specific language governing permissions and\n",
        "# limitations under the License."
      ],
      "execution_count": 0,
      "outputs": []
    },
    {
      "cell_type": "markdown",
      "metadata": {
        "colab_type": "text",
        "id": "view-in-github"
      },
      "source": [
        "<a href=\"https://colab.research.google.com/github/lmoroney/dlaicourse/blob/master/TensorFlow%20In%20Practice/Course%203%20-%20NLP/Course%203%20-%20Week%202%20-%20Lesson%202.ipynb\" target=\"_parent\"><img src=\"https://colab.research.google.com/assets/colab-badge.svg\" alt=\"Open In Colab\"/></a>"
      ]
    },
    {
      "cell_type": "code",
      "metadata": {
        "colab_type": "code",
        "id": "4gs9htvM7n_x",
        "colab": {}
      },
      "source": [
        "# Run this to ensure TensorFlow 2.x is used\n",
        "try:\n",
        "  # %tensorflow_version only exists in Colab.\n",
        "  %tensorflow_version 2.x\n",
        "except Exception:\n",
        "  pass"
      ],
      "execution_count": 0,
      "outputs": []
    },
    {
      "cell_type": "code",
      "metadata": {
        "colab_type": "code",
        "id": "XYYDvoskkE61",
        "colab": {}
      },
      "source": [
        "import json\n",
        "import tensorflow as tf\n",
        "\n",
        "from tensorflow.keras.preprocessing.text import Tokenizer\n",
        "from tensorflow.keras.preprocessing.sequence import pad_sequences"
      ],
      "execution_count": 0,
      "outputs": []
    },
    {
      "cell_type": "code",
      "metadata": {
        "colab_type": "code",
        "id": "0eJSTTYnkJQd",
        "colab": {}
      },
      "source": [
        "vocab_size = 8000  # 10000, 1000, 1000\n",
        "embedding_dim = 16 # NONE, 16, 32\n",
        "max_length = 2000    # 100 or 32, 16, 6\n",
        "trunc_type='post'\n",
        "padding_type='post'\n",
        "oov_tok = \"<OOV>\"\n",
        "training_size = 20000\n"
      ],
      "execution_count": 0,
      "outputs": []
    },
    {
      "cell_type": "code",
      "metadata": {
        "colab_type": "code",
        "id": "BQVuQrZNkPn9",
        "colab": {
          "base_uri": "https://localhost:8080/",
          "height": 243
        },
        "outputId": "1e712cb8-253f-469a-e30a-a2bbcaf4293e"
      },
      "source": [
        "!wget --no-check-certificate \\\n",
        "    https://storage.googleapis.com/laurencemoroney-blog.appspot.com/sarcasm.json \\\n",
        "    -O /tmp/sarcasm.json\n"
      ],
      "execution_count": 109,
      "outputs": [
        {
          "output_type": "stream",
          "text": [
            "--2020-05-29 07:57:02--  https://storage.googleapis.com/laurencemoroney-blog.appspot.com/sarcasm.json\n",
            "Resolving storage.googleapis.com (storage.googleapis.com)... 64.233.189.128, 2404:6800:4008:c01::80\n",
            "Connecting to storage.googleapis.com (storage.googleapis.com)|64.233.189.128|:443... connected.\n",
            "HTTP request sent, awaiting response... 200 OK\n",
            "Length: 5643545 (5.4M) [application/json]\n",
            "Saving to: ‘/tmp/sarcasm.json’\n",
            "\n",
            "\r/tmp/sarcasm.json     0%[                    ]       0  --.-KB/s               \r/tmp/sarcasm.json   100%[===================>]   5.38M  --.-KB/s    in 0.06s   \n",
            "\n",
            "2020-05-29 07:57:02 (85.7 MB/s) - ‘/tmp/sarcasm.json’ saved [5643545/5643545]\n",
            "\n"
          ],
          "name": "stdout"
        }
      ]
    },
    {
      "cell_type": "code",
      "metadata": {
        "colab_type": "code",
        "id": "oaLaaqhNkUPd",
        "colab": {}
      },
      "source": [
        "with open(\"/tmp/sarcasm.json\", 'r') as f:\n",
        "    datastore = json.load(f)\n",
        "\n",
        "sentences = []\n",
        "labels = []\n",
        "\n",
        "for item in datastore:\n",
        "    sentences.append(item['headline'])\n",
        "    labels.append(item['is_sarcastic'])"
      ],
      "execution_count": 0,
      "outputs": []
    },
    {
      "cell_type": "code",
      "metadata": {
        "colab_type": "code",
        "id": "S1sD-7v0kYWk",
        "colab": {}
      },
      "source": [
        "training_sentences = sentences[0:training_size]\n",
        "testing_sentences = sentences[training_size:]\n",
        "training_labels = labels[0:training_size]\n",
        "testing_labels = labels[training_size:]"
      ],
      "execution_count": 0,
      "outputs": []
    },
    {
      "cell_type": "code",
      "metadata": {
        "colab_type": "code",
        "id": "3u8UB0MCkZ5N",
        "colab": {}
      },
      "source": [
        "tokenizer = Tokenizer(num_words=vocab_size, oov_token=oov_tok)\n",
        "tokenizer.fit_on_texts(training_sentences)\n",
        "\n",
        "word_index = tokenizer.word_index\n",
        "\n",
        "training_sequences = tokenizer.texts_to_sequences(training_sentences)\n",
        "training_padded = pad_sequences(training_sequences, maxlen=max_length, padding=padding_type, truncating=trunc_type)\n",
        "\n",
        "testing_sequences = tokenizer.texts_to_sequences(testing_sentences)\n",
        "testing_padded = pad_sequences(testing_sequences, maxlen=max_length, padding=padding_type, truncating=trunc_type)"
      ],
      "execution_count": 0,
      "outputs": []
    },
    {
      "cell_type": "code",
      "metadata": {
        "colab_type": "code",
        "id": "GrAlWBKf99Ya",
        "colab": {}
      },
      "source": [
        "# Need this block to get it to work with TensorFlow 2.x\n",
        "import numpy as np\n",
        "training_padded = np.array(training_padded)\n",
        "training_labels = np.array(training_labels)\n",
        "testing_padded = np.array(testing_padded)\n",
        "testing_labels = np.array(testing_labels)"
      ],
      "execution_count": 0,
      "outputs": []
    },
    {
      "cell_type": "code",
      "metadata": {
        "colab_type": "code",
        "id": "FufaT4vlkiDE",
        "colab": {}
      },
      "source": [
        "model = tf.keras.Sequential([\n",
        "    tf.keras.layers.Embedding(vocab_size, embedding_dim, input_length=max_length),\n",
        "    tf.keras.layers.GlobalAveragePooling1D(),\n",
        "    tf.keras.layers.Dense(24, activation='relu'),\n",
        "    tf.keras.layers.Dense(1, activation='sigmoid')\n",
        "])\n",
        "model.compile(loss='binary_crossentropy',optimizer='adam',metrics=['accuracy'])"
      ],
      "execution_count": 0,
      "outputs": []
    },
    {
      "cell_type": "code",
      "metadata": {
        "colab_type": "code",
        "id": "XfDt1hmYkiys",
        "colab": {
          "base_uri": "https://localhost:8080/",
          "height": 316
        },
        "outputId": "20bdae9a-2577-449d-8477-46874c78cce7"
      },
      "source": [
        "model.summary()\n"
      ],
      "execution_count": 115,
      "outputs": [
        {
          "output_type": "stream",
          "text": [
            "Model: \"sequential_10\"\n",
            "_________________________________________________________________\n",
            "Layer (type)                 Output Shape              Param #   \n",
            "=================================================================\n",
            "embedding_10 (Embedding)     (None, 2000, 16)          128000    \n",
            "_________________________________________________________________\n",
            "global_average_pooling1d_10  (None, 16)                0         \n",
            "_________________________________________________________________\n",
            "dense_20 (Dense)             (None, 24)                408       \n",
            "_________________________________________________________________\n",
            "dense_21 (Dense)             (None, 1)                 25        \n",
            "=================================================================\n",
            "Total params: 128,433\n",
            "Trainable params: 128,433\n",
            "Non-trainable params: 0\n",
            "_________________________________________________________________\n"
          ],
          "name": "stdout"
        }
      ]
    },
    {
      "cell_type": "code",
      "metadata": {
        "colab_type": "code",
        "id": "2DTKQFf1kkyc",
        "colab": {
          "base_uri": "https://localhost:8080/",
          "height": 1000
        },
        "outputId": "2da9dc65-b161-45a5-bc1d-eace6f227632"
      },
      "source": [
        "num_epochs = 50\n",
        "history = model.fit(training_padded, training_labels, epochs=num_epochs, validation_data=(testing_padded, testing_labels), verbose=1)"
      ],
      "execution_count": 118,
      "outputs": [
        {
          "output_type": "stream",
          "text": [
            "Epoch 1/50\n",
            "625/625 [==============================] - 5s 9ms/step - loss: 0.4183 - accuracy: 0.8276 - val_loss: 0.4615 - val_accuracy: 0.7813\n",
            "Epoch 2/50\n",
            "625/625 [==============================] - 5s 9ms/step - loss: 0.3885 - accuracy: 0.8389 - val_loss: 0.4071 - val_accuracy: 0.8252\n",
            "Epoch 3/50\n",
            "625/625 [==============================] - 5s 9ms/step - loss: 0.3650 - accuracy: 0.8502 - val_loss: 0.4050 - val_accuracy: 0.8226\n",
            "Epoch 4/50\n",
            "625/625 [==============================] - 5s 9ms/step - loss: 0.3485 - accuracy: 0.8568 - val_loss: 0.3860 - val_accuracy: 0.8357\n",
            "Epoch 5/50\n",
            "625/625 [==============================] - 5s 9ms/step - loss: 0.3372 - accuracy: 0.8584 - val_loss: 0.3826 - val_accuracy: 0.8362\n",
            "Epoch 6/50\n",
            "625/625 [==============================] - 5s 9ms/step - loss: 0.3256 - accuracy: 0.8636 - val_loss: 0.4070 - val_accuracy: 0.8089\n",
            "Epoch 7/50\n",
            "625/625 [==============================] - 6s 9ms/step - loss: 0.3155 - accuracy: 0.8698 - val_loss: 0.3688 - val_accuracy: 0.8453\n",
            "Epoch 8/50\n",
            "625/625 [==============================] - 6s 10ms/step - loss: 0.3063 - accuracy: 0.8748 - val_loss: 0.3741 - val_accuracy: 0.8386\n",
            "Epoch 9/50\n",
            "625/625 [==============================] - 6s 9ms/step - loss: 0.2986 - accuracy: 0.8776 - val_loss: 0.3611 - val_accuracy: 0.8498\n",
            "Epoch 10/50\n",
            "625/625 [==============================] - 6s 9ms/step - loss: 0.2863 - accuracy: 0.8832 - val_loss: 0.3901 - val_accuracy: 0.8220\n",
            "Epoch 11/50\n",
            "625/625 [==============================] - 6s 9ms/step - loss: 0.2835 - accuracy: 0.8835 - val_loss: 0.3561 - val_accuracy: 0.8521\n",
            "Epoch 12/50\n",
            "625/625 [==============================] - 5s 9ms/step - loss: 0.2690 - accuracy: 0.8917 - val_loss: 0.3777 - val_accuracy: 0.8293\n",
            "Epoch 13/50\n",
            "625/625 [==============================] - 5s 9ms/step - loss: 0.2641 - accuracy: 0.8939 - val_loss: 0.3724 - val_accuracy: 0.8338\n",
            "Epoch 14/50\n",
            "625/625 [==============================] - 5s 9ms/step - loss: 0.2583 - accuracy: 0.8963 - val_loss: 0.3536 - val_accuracy: 0.8505\n",
            "Epoch 15/50\n",
            "625/625 [==============================] - 6s 9ms/step - loss: 0.2514 - accuracy: 0.8989 - val_loss: 0.3509 - val_accuracy: 0.8535\n",
            "Epoch 16/50\n",
            "625/625 [==============================] - 6s 9ms/step - loss: 0.2475 - accuracy: 0.8992 - val_loss: 0.3955 - val_accuracy: 0.8241\n",
            "Epoch 17/50\n",
            "625/625 [==============================] - 6s 9ms/step - loss: 0.2407 - accuracy: 0.9036 - val_loss: 0.3651 - val_accuracy: 0.8405\n",
            "Epoch 18/50\n",
            "625/625 [==============================] - 6s 9ms/step - loss: 0.2353 - accuracy: 0.9071 - val_loss: 0.3608 - val_accuracy: 0.8438\n",
            "Epoch 19/50\n",
            "625/625 [==============================] - 6s 9ms/step - loss: 0.2333 - accuracy: 0.9071 - val_loss: 0.3708 - val_accuracy: 0.8366\n",
            "Epoch 20/50\n",
            "625/625 [==============================] - 5s 9ms/step - loss: 0.2258 - accuracy: 0.9099 - val_loss: 0.3610 - val_accuracy: 0.8466\n",
            "Epoch 21/50\n",
            "625/625 [==============================] - 6s 9ms/step - loss: 0.2194 - accuracy: 0.9139 - val_loss: 0.3561 - val_accuracy: 0.8484\n",
            "Epoch 22/50\n",
            "625/625 [==============================] - 5s 9ms/step - loss: 0.2180 - accuracy: 0.9133 - val_loss: 0.3577 - val_accuracy: 0.8508\n",
            "Epoch 23/50\n",
            "625/625 [==============================] - 5s 9ms/step - loss: 0.2076 - accuracy: 0.9194 - val_loss: 0.4329 - val_accuracy: 0.8135\n",
            "Epoch 24/50\n",
            "625/625 [==============================] - 5s 9ms/step - loss: 0.2086 - accuracy: 0.9172 - val_loss: 0.3542 - val_accuracy: 0.8520\n",
            "Epoch 25/50\n",
            "625/625 [==============================] - 5s 9ms/step - loss: 0.2008 - accuracy: 0.9230 - val_loss: 0.3573 - val_accuracy: 0.8512\n",
            "Epoch 26/50\n",
            "625/625 [==============================] - 6s 9ms/step - loss: 0.1993 - accuracy: 0.9226 - val_loss: 0.3658 - val_accuracy: 0.8490\n",
            "Epoch 27/50\n",
            "625/625 [==============================] - 6s 9ms/step - loss: 0.1999 - accuracy: 0.9212 - val_loss: 0.3701 - val_accuracy: 0.8486\n",
            "Epoch 28/50\n",
            "625/625 [==============================] - 5s 9ms/step - loss: 0.1914 - accuracy: 0.9258 - val_loss: 0.3622 - val_accuracy: 0.8518\n",
            "Epoch 29/50\n",
            "625/625 [==============================] - 5s 9ms/step - loss: 0.1902 - accuracy: 0.9260 - val_loss: 0.3635 - val_accuracy: 0.8517\n",
            "Epoch 30/50\n",
            "625/625 [==============================] - 5s 9ms/step - loss: 0.1927 - accuracy: 0.9237 - val_loss: 0.3743 - val_accuracy: 0.8502\n",
            "Epoch 31/50\n",
            "625/625 [==============================] - 6s 9ms/step - loss: 0.1795 - accuracy: 0.9304 - val_loss: 0.3684 - val_accuracy: 0.8517\n",
            "Epoch 32/50\n",
            "625/625 [==============================] - 5s 9ms/step - loss: 0.1813 - accuracy: 0.9295 - val_loss: 0.3736 - val_accuracy: 0.8501\n",
            "Epoch 33/50\n",
            "625/625 [==============================] - 6s 9ms/step - loss: 0.1778 - accuracy: 0.9305 - val_loss: 0.4106 - val_accuracy: 0.8337\n",
            "Epoch 34/50\n",
            "625/625 [==============================] - 5s 9ms/step - loss: 0.1751 - accuracy: 0.9310 - val_loss: 0.3814 - val_accuracy: 0.8492\n",
            "Epoch 35/50\n",
            "625/625 [==============================] - 5s 9ms/step - loss: 0.1758 - accuracy: 0.9320 - val_loss: 0.3789 - val_accuracy: 0.8511\n",
            "Epoch 36/50\n",
            "625/625 [==============================] - 5s 9ms/step - loss: 0.1710 - accuracy: 0.9341 - val_loss: 0.4130 - val_accuracy: 0.8374\n",
            "Epoch 37/50\n",
            "625/625 [==============================] - 6s 9ms/step - loss: 0.1695 - accuracy: 0.9334 - val_loss: 0.4593 - val_accuracy: 0.8147\n",
            "Epoch 38/50\n",
            "625/625 [==============================] - 5s 9ms/step - loss: 0.1681 - accuracy: 0.9338 - val_loss: 0.3943 - val_accuracy: 0.8478\n",
            "Epoch 39/50\n",
            "625/625 [==============================] - 5s 9ms/step - loss: 0.1590 - accuracy: 0.9392 - val_loss: 0.3989 - val_accuracy: 0.8472\n",
            "Epoch 40/50\n",
            "625/625 [==============================] - 5s 9ms/step - loss: 0.1599 - accuracy: 0.9373 - val_loss: 0.4174 - val_accuracy: 0.8363\n",
            "Epoch 41/50\n",
            "625/625 [==============================] - 6s 9ms/step - loss: 0.1562 - accuracy: 0.9387 - val_loss: 0.3943 - val_accuracy: 0.8495\n",
            "Epoch 42/50\n",
            "625/625 [==============================] - 6s 9ms/step - loss: 0.1597 - accuracy: 0.9379 - val_loss: 0.4057 - val_accuracy: 0.8462\n",
            "Epoch 43/50\n",
            "625/625 [==============================] - 5s 9ms/step - loss: 0.1521 - accuracy: 0.9423 - val_loss: 0.4004 - val_accuracy: 0.8493\n",
            "Epoch 44/50\n",
            "625/625 [==============================] - 5s 9ms/step - loss: 0.1527 - accuracy: 0.9408 - val_loss: 0.4382 - val_accuracy: 0.8322\n",
            "Epoch 45/50\n",
            "625/625 [==============================] - 6s 9ms/step - loss: 0.1482 - accuracy: 0.9448 - val_loss: 0.4114 - val_accuracy: 0.8495\n",
            "Epoch 46/50\n",
            "625/625 [==============================] - 5s 9ms/step - loss: 0.1491 - accuracy: 0.9423 - val_loss: 0.4153 - val_accuracy: 0.8495\n",
            "Epoch 47/50\n",
            "625/625 [==============================] - 6s 9ms/step - loss: 0.1428 - accuracy: 0.9467 - val_loss: 0.4258 - val_accuracy: 0.8419\n",
            "Epoch 48/50\n",
            "625/625 [==============================] - 6s 9ms/step - loss: 0.1423 - accuracy: 0.9473 - val_loss: 0.4230 - val_accuracy: 0.8492\n",
            "Epoch 49/50\n",
            "625/625 [==============================] - 5s 9ms/step - loss: 0.1388 - accuracy: 0.9479 - val_loss: 0.4222 - val_accuracy: 0.8478\n",
            "Epoch 50/50\n",
            "625/625 [==============================] - 5s 9ms/step - loss: 0.1408 - accuracy: 0.9459 - val_loss: 0.4369 - val_accuracy: 0.8444\n"
          ],
          "name": "stdout"
        }
      ]
    },
    {
      "cell_type": "code",
      "metadata": {
        "colab_type": "code",
        "id": "2HYfBKXjkmU8",
        "colab": {
          "base_uri": "https://localhost:8080/",
          "height": 542
        },
        "outputId": "0c4bd2cb-4285-4540-eddd-ea98e8846554"
      },
      "source": [
        "import matplotlib.pyplot as plt\n",
        "\n",
        "\n",
        "def plot_graphs(history, string):\n",
        "  plt.plot(history.history[string])\n",
        "  plt.plot(history.history['val_'+string])\n",
        "  plt.xlabel(\"Epochs\")\n",
        "  plt.ylabel(string)\n",
        "  plt.legend([string, 'val_'+string])\n",
        "  plt.show()\n",
        "  \n",
        "plot_graphs(history, \"accuracy\")\n",
        "plot_graphs(history, \"loss\")"
      ],
      "execution_count": 107,
      "outputs": [
        {
          "output_type": "display_data",
          "data": {
            "image/png": "[encoded data removed]",
            "text/plain": [
              "<Figure size 432x288 with 1 Axes>"
            ]
          },
          "metadata": {
            "tags": [],
            "needs_background": "light"
          }
        },
        {
          "output_type": "display_data",
          "data": {
            "image/png": "[encoded data removed]",
            "text/plain": [
              "<Figure size 432x288 with 1 Axes>"
            ]
          },
          "metadata": {
            "tags": [],
            "needs_background": "light"
          }
        }
      ]
    },
    {
      "cell_type": "code",
      "metadata": {
        "colab_type": "code",
        "id": "7SBdAZAenvzL",
        "colab": {
          "base_uri": "https://localhost:8080/",
          "height": 93
        },
        "outputId": "957732e3-eef4-49f2-b466-c29163c60f1b"
      },
      "source": [
        "reverse_word_index = dict([(value, key) for (key, value) in word_index.items()])\n",
        "\n",
        "def decode_sentence(text):\n",
        "    return ' '.join([reverse_word_index.get(i, '?') for i in text])\n",
        "\n",
        "print(decode_sentence(training_padded[0]))\n",
        "print(training_sentences[2])\n",
        "print(labels[2])"
      ],
      "execution_count": 119,
      "outputs": [
        {
          "output_type": "stream",
          "text": [
            "former <OOV> store clerk sues over secret 'black <OOV> for minority <OOV> ? ? ? ? ? ? ? ? ? ? ? ? ? ? ? ? ? ? ? ? ? ? ? ? ? ? ? ? ? ? ? ? ? ? ? ? ? ? ? ? ? ? ? ? ? ? ? ? ? ? ? ? ? ? ? ? ? ? ? ? ? ? ? ? ? ? ? ? ? ? ? ? ? ? ? ? ? ? ? ? ? ? ? ? ? ? ? ? ? ? ? ? ? ? ? ? ? ? ? ? ? ? ? ? ? ? ? ? ? ? ? ? ? ? ? ? ? ? ? ? ? ? ? ? ? ? ? ? ? ? ? ? ? ? ? ? ? ? ? ? ? ? ? ? ? ? ? ? ? ? ? ? ? ? ? ? ? ? ? ? ? ? ? ? ? ? ? ? ? ? ? ? ? ? ? ? ? ? ? ? ? ? ? ? ? ? ? ? ? ? ? ? ? ? ? ? ? ? ? ? ? ? ? ? ? ? ? ? ? ? ? ? ? ? ? ? ? ? ? ? ? ? ? ? ? ? ? ? ? ? ? ? ? ? ? ? ? ? ? ? ? ? ? ? ? ? ? ? ? ? ? ? ? ? ? ? ? ? ? ? ? ? ? ? ? ? ? ? ? ? ? ? ? ? ? ? ? ? ? ? ? ? ? ? ? ? ? ? ? ? ? ? ? ? ? ? ? ? ? ? ? ? ? ? ? ? ? ? ? ? ? ? ? ? ? ? ? ? ? ? ? ? ? ? ? ? ? ? ? ? ? ? ? ? ? ? ? ? ? ? ? ? ? ? ? ? ? ? ? ? ? ? ? ? ? ? ? ? ? ? ? ? ? ? ? ? ? ? ? ? ? ? ? ? ? ? ? ? ? ? ? ? ? ? ? ? ? ? ? ? ? ? ? ? ? ? ? ? ? ? ? ? ? ? ? ? ? ? ? ? ? ? ? ? ? ? ? ? ? ? ? ? ? ? ? ? ? ? ? ? ? ? ? ? ? ? ? ? ? ? ? ? ? ? ? ? ? ? ? ? ? ? ? ? ? ? ? ? ? ? ? ? ? ? ? ? ? ? ? ? ? ? ? ? ? ? ? ? ? ? ? ? ? ? ? ? ? ? ? ? ? ? ? ? ? ? ? ? ? ? ? ? ? ? ? ? ? ? ? ? ? ? ? ? ? ? ? ? ? ? ? ? ? ? ? ? ? ? ? ? ? ? ? ? ? ? ? ? ? ? ? ? ? ? ? ? ? ? ? ? ? ? ? ? ? ? ? ? ? ? ? ? ? ? ? ? ? ? ? ? ? ? ? ? ? ? ? ? ? ? ? ? ? ? ? ? ? ? ? ? ? ? ? ? ? ? ? ? ? ? ? ? ? ? ? ? ? ? ? ? ? ? ? ? ? ? ? ? ? ? ? ? ? ? ? ? ? ? ? ? ? ? ? ? ? ? ? ? ? ? ? ? ? ? ? ? ? ? ? ? ? ? ? ? ? ? ? ? ? ? ? ? ? ? ? ? ? ? ? ? ? ? ? ? ? ? ? ? ? ? ? ? ? ? ? ? ? ? ? ? ? ? ? ? ? ? ? ? ? ? ? ? ? ? ? ? ? ? ? ? ? ? ? ? ? ? ? ? ? ? ? ? ? ? ? ? ? ? ? ? ? ? ? ? ? ? ? ? ? ? ? ? ? ? ? ? ? ? ? ? ? ? ? ? ? ? ? ? ? ? ? ? ? ? ? ? ? ? ? ? ? ? ? ? ? ? ? ? ? ? ? ? ? ? ? ? ? ? ? ? ? ? ? ? ? ? ? ? ? ? ? ? ? ? ? ? ? ? ? ? ? ? ? ? ? ? ? ? ? ? ? ? ? ? ? ? ? ? ? ? ? ? ? ? ? ? ? ? ? ? ? ? ? ? ? ? ? ? ? ? ? ? ? ? ? ? ? ? ? ? ? ? ? ? ? ? ? ? ? ? ? ? ? ? ? ? ? ? ? ? ? ? ? ? ? ? ? ? ? ? ? ? ? ? ? ? ? ? ? ? ? ? ? ? ? ? ? ? ? ? ? ? ? ? ? ? ? ? ? ? ? ? ? ? ? ? ? ? ? ? ? ? ? ? ? ? ? ? ? ? ? ? ? ? ? ? ? ? ? ? ? ? ? ? ? ? ? ? ? ? ? ? ? ? ? ? ? ? ? ? ? ? ? ? ? ? ? ? ? ? ? ? ? ? ? ? ? ? ? ? ? ? ? ? ? ? ? ? ? ? ? ? ? ? ? ? ? ? ? ? ? ? ? ? ? ? ? ? ? ? ? ? ? ? ? ? ? ? ? ? ? ? ? ? ? ? ? ? ? ? ? ? ? ? ? ? ? ? ? ? ? ? ? ? ? ? ? ? ? ? ? ? ? ? ? ? ? ? ? ? ? ? ? ? ? ? ? ? ? ? ? ? ? ? ? ? ? ? ? ? ? ? ? ? ? ? ? ? ? ? ? ? ? ? ? ? ? ? ? ? ? ? ? ? ? ? ? ? ? ? ? ? ? ? ? ? ? ? ? ? ? ? ? ? ? ? ? ? ? ? ? ? ? ? ? ? ? ? ? ? ? ? ? ? ? ? ? ? ? ? ? ? ? ? ? ? ? ? ? ? ? ? ? ? ? ? ? ? ? ? ? ? ? ? ? ? ? ? ? ? ? ? ? ? ? ? ? ? ? ? ? ? ? ? ? ? ? ? ? ? ? ? ? ? ? ? ? ? ? ? ? ? ? ? ? ? ? ? ? ? ? ? ? ? ? ? ? ? ? ? ? ? ? ? ? ? ? ? ? ? ? ? ? ? ? ? ? ? ? ? ? ? ? ? ? ? ? ? ? ? ? ? ? ? ? ? ? ? ? ? ? ? ? ? ? ? ? ? ? ? ? ? ? ? ? ? ? ? ? ? ? ? ? ? ? ? ? ? ? ? ? ? ? ? ? ? ? ? ? ? ? ? ? ? ? ? ? ? ? ? ? ? ? ? ? ? ? ? ? ? ? ? ? ? ? ? ? ? ? ? ? ? ? ? ? ? ? ? ? ? ? ? ? ? ? ? ? ? ? ? ? ? ? ? ? ? ? ? ? ? ? ? ? ? ? ? ? ? ? ? ? ? ? ? ? ? ? ? ? ? ? ? ? ? ? ? ? ? ? ? ? ? ? ? ? ? ? ? ? ? ? ? ? ? ? ? ? ? ? ? ? ? ? ? ? ? ? ? ? ? ? ? ? ? ? ? ? ? ? ? ? ? ? ? ? ? ? ? ? ? ? ? ? ? ? ? ? ? ? ? ? ? ? ? ? ? ? ? ? ? ? ? ? ? ? ? ? ? ? ? ? ? ? ? ? ? ? ? ? ? ? ? ? ? ? ? ? ? ? ? ? ? ? ? ? ? ? ? ? ? ? ? ? ? ? ? ? ? ? ? ? ? ? ? ? ? ? ? ? ? ? ? ? ? ? ? ? ? ? ? ? ? ? ? ? ? ? ? ? ? ? ? ? ? ? ? ? ? ? ? ? ? ? ? ? ? ? ? ? ? ? ? ? ? ? ? ? ? ? ? ? ? ? ? ? ? ? ? ? ? ? ? ? ? ? ? ? ? ? ? ? ? ? ? ? ? ? ? ? ? ? ? ? ? ? ? ? ? ? ? ? ? ? ? ? ? ? ? ? ? ? ? ? ? ? ? ? ? ? ? ? ? ? ? ? ? ? ? ? ? ? ? ? ? ? ? ? ? ? ? ? ? ? ? ? ? ? ? ? ? ? ? ? ? ? ? ? ? ? ? ? ? ? ? ? ? ? ? ? ? ? ? ? ? ? ? ? ? ? ? ? ? ? ? ? ? ? ? ? ? ? ? ? ? ? ? ? ? ? ? ? ? ? ? ? ? ? ? ? ? ? ? ? ? ? ? ? ? ? ? ? ? ? ? ? ? ? ? ? ? ? ? ? ? ? ? ? ? ? ? ? ? ? ? ? ? ? ? ? ? ? ? ? ? ? ? ? ? ? ? ? ? ? ? ? ? ? ? ? ? ? ? ? ? ? ? ? ? ? ? ? ? ? ? ? ? ? ? ? ? ? ? ? ? ? ? ? ? ? ? ? ? ? ? ? ? ? ? ? ? ? ? ? ? ? ? ? ? ? ? ? ? ? ? ? ? ? ? ? ? ? ? ? ? ? ? ? ? ? ? ? ? ? ? ? ? ? ? ? ? ? ? ? ? ? ? ? ? ? ? ? ? ? ? ? ? ? ? ? ? ? ? ? ? ? ? ? ? ? ? ? ? ? ? ? ? ? ? ? ? ? ? ? ? ? ? ? ? ? ? ? ? ? ? ? ? ? ? ? ? ? ? ? ? ? ? ? ? ? ? ? ? ? ? ? ? ? ? ? ? ? ? ? ? ? ? ? ? ? ? ? ? ? ? ? ? ? ? ? ? ? ? ? ? ? ? ? ?\n",
            "mom starting to fear son's web series closest thing she will have to grandchild\n",
            "1\n"
          ],
          "name": "stdout"
        }
      ]
    },
    {
      "cell_type": "code",
      "metadata": {
        "colab_type": "code",
        "id": "c9MqihtEkzQ9",
        "colab": {
          "base_uri": "https://localhost:8080/",
          "height": 36
        },
        "outputId": "a95939dc-a9ed-476b-b829-40183b816a31"
      },
      "source": [
        "e = model.layers[0]\n",
        "weights = e.get_weights()[0]\n",
        "print(weights.shape) # shape: (vocab_size, embedding_dim)\n"
      ],
      "execution_count": 120,
      "outputs": [
        {
          "output_type": "stream",
          "text": [
            "(8000, 16)\n"
          ],
          "name": "stdout"
        }
      ]
    },
    {
      "cell_type": "code",
      "metadata": {
        "colab_type": "code",
        "id": "LoBXVffknldU",
        "colab": {}
      },
      "source": [
        "import io\n",
        "\n",
        "out_v = io.open('vecs.tsv', 'w', encoding='utf-8')\n",
        "out_m = io.open('meta.tsv', 'w', encoding='utf-8')\n",
        "for word_num in range(1, vocab_size):\n",
        "  word = reverse_word_index[word_num]\n",
        "  embeddings = weights[word_num]\n",
        "  out_m.write(word + \"\\n\")\n",
        "  out_v.write('\\t'.join([str(x) for x in embeddings]) + \"\\n\")\n",
        "out_v.close()\n",
        "out_m.close()"
      ],
      "execution_count": 0,
      "outputs": []
    },
    {
      "cell_type": "code",
      "metadata": {
        "colab_type": "code",
        "id": "U4eZ5HtVnnEE",
        "colab": {}
      },
      "source": [
        "try:\n",
        "  from google.colab import files\n",
        "except ImportError:\n",
        "  pass\n",
        "else:\n",
        "  files.download('vecs.tsv')\n",
        "  files.download('meta.tsv')"
      ],
      "execution_count": 0,
      "outputs": []
    },
    {
      "cell_type": "code",
      "metadata": {
        "colab_type": "code",
        "id": "cG8-ArY-qDcz",
        "colab": {
          "base_uri": "https://localhost:8080/",
          "height": 54
        },
        "outputId": "e112c89e-a321-4550-8e64-0e1e1fa8f1d8"
      },
      "source": [
        "sentence = [\"granny starting to fear spiders in the garden might be real\", \"game of thrones season finale showing this sunday night\"]\n",
        "sequences = tokenizer.texts_to_sequences(sentence)\n",
        "padded = pad_sequences(sequences, maxlen=max_length, padding=padding_type, truncating=trunc_type)\n",
        "print(model.predict(padded))"
      ],
      "execution_count": 124,
      "outputs": [
        {
          "output_type": "stream",
          "text": [
            "[[0.58673614]\n",
            " [0.04230711]]\n"
          ],
          "name": "stdout"
        }
      ]
    },
    {
      "cell_type": "code",
      "metadata": {
        "id": "XEPkL6skdIao",
        "colab_type": "code",
        "colab": {}
      },
      "source": [
        ""
      ],
      "execution_count": 0,
      "outputs": []
    }
  ]
}